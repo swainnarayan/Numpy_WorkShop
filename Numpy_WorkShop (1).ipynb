{
 "cells": [
  {
   "cell_type": "markdown",
   "id": "7f718d7d-4c1a-4217-a0eb-54387a4766db",
   "metadata": {},
   "source": [
    "# Numpy Crash Course"
   ]
  },
  {
   "cell_type": "code",
   "execution_count": 1,
   "id": "16a5f6a5-35ea-438f-b320-9dbda47dd20b",
   "metadata": {},
   "outputs": [],
   "source": [
    "import numpy as np"
   ]
  },
  {
   "cell_type": "code",
   "execution_count": 2,
   "id": "c15d2a7b-f122-43c9-b24a-2ac870e62256",
   "metadata": {},
   "outputs": [
    {
     "data": {
      "text/plain": [
       "'1.26.4'"
      ]
     },
     "execution_count": 2,
     "metadata": {},
     "output_type": "execute_result"
    }
   ],
   "source": [
    "np.__version__"
   ]
  },
  {
   "cell_type": "markdown",
   "id": "99ea0387-f5b6-4531-8d25-f4fd50cc46f8",
   "metadata": {},
   "source": [
    "# Creatin Arrays"
   ]
  },
  {
   "cell_type": "code",
   "execution_count": 3,
   "id": "2c82d15d-8957-4b7f-a150-6922801e7ea2",
   "metadata": {},
   "outputs": [
    {
     "data": {
      "text/plain": [
       "[0, 1, 2, 3, 4, 5]"
      ]
     },
     "execution_count": 3,
     "metadata": {},
     "output_type": "execute_result"
    }
   ],
   "source": [
    "my_list=[0,1,2,3,4,5]\n",
    "my_list"
   ]
  },
  {
   "cell_type": "code",
   "execution_count": 5,
   "id": "e157b2bc-d07f-4b3c-b248-36d2da20cfe4",
   "metadata": {},
   "outputs": [
    {
     "data": {
      "text/plain": [
       "list"
      ]
     },
     "execution_count": 5,
     "metadata": {},
     "output_type": "execute_result"
    }
   ],
   "source": [
    "type(my_list)"
   ]
  },
  {
   "cell_type": "code",
   "execution_count": 7,
   "id": "f9a9dc86-ae59-477d-854c-c3aea48d9647",
   "metadata": {},
   "outputs": [],
   "source": [
    "arr=np.array(my_list)"
   ]
  },
  {
   "cell_type": "code",
   "execution_count": 8,
   "id": "7aca6bf5-b0de-43d2-81d2-e34f407a34a2",
   "metadata": {},
   "outputs": [
    {
     "data": {
      "text/plain": [
       "array([0, 1, 2, 3, 4, 5])"
      ]
     },
     "execution_count": 8,
     "metadata": {},
     "output_type": "execute_result"
    }
   ],
   "source": [
    "arr"
   ]
  },
  {
   "cell_type": "code",
   "execution_count": 10,
   "id": "bd50f02c-6c76-480e-b660-900356ec75ac",
   "metadata": {},
   "outputs": [
    {
     "data": {
      "text/plain": [
       "numpy.ndarray"
      ]
     },
     "execution_count": 10,
     "metadata": {},
     "output_type": "execute_result"
    }
   ],
   "source": [
    "type(arr)"
   ]
  },
  {
   "cell_type": "code",
   "execution_count": 11,
   "id": "d47e7f13-0af6-4f93-b845-f9e77413aa5b",
   "metadata": {},
   "outputs": [
    {
     "data": {
      "text/plain": [
       "array([ 0,  1,  2,  3,  4,  5,  6,  7,  8,  9, 10, 11, 12, 13, 14])"
      ]
     },
     "execution_count": 11,
     "metadata": {},
     "output_type": "execute_result"
    }
   ],
   "source": [
    "np.arange(15)"
   ]
  },
  {
   "cell_type": "code",
   "execution_count": 12,
   "id": "994a5af0-8d7f-455d-b3f5-dd329cad8b20",
   "metadata": {},
   "outputs": [
    {
     "data": {
      "text/plain": [
       "array([0., 1., 2.])"
      ]
     },
     "execution_count": 12,
     "metadata": {},
     "output_type": "execute_result"
    }
   ],
   "source": [
    "np.arange(3.0)"
   ]
  },
  {
   "cell_type": "code",
   "execution_count": 13,
   "id": "63fa78ff-9e01-4c6a-adfc-2dc233ef3b37",
   "metadata": {},
   "outputs": [
    {
     "data": {
      "text/plain": [
       "array([0, 1, 2, 3, 4])"
      ]
     },
     "execution_count": 13,
     "metadata": {},
     "output_type": "execute_result"
    }
   ],
   "source": [
    "np.arange(0,5)"
   ]
  },
  {
   "cell_type": "code",
   "execution_count": 14,
   "id": "03ff233b-7293-4384-95bb-1a74318dd900",
   "metadata": {},
   "outputs": [
    {
     "data": {
      "text/plain": [
       "array([10, 11, 12, 13, 14, 15, 16, 17, 18, 19])"
      ]
     },
     "execution_count": 14,
     "metadata": {},
     "output_type": "execute_result"
    }
   ],
   "source": [
    "np.arange(10,20)"
   ]
  },
  {
   "cell_type": "code",
   "execution_count": 15,
   "id": "027b88e8-7bd5-4c7b-bb21-42e15e7b3d39",
   "metadata": {},
   "outputs": [
    {
     "data": {
      "text/plain": [
       "array([], dtype=int32)"
      ]
     },
     "execution_count": 15,
     "metadata": {},
     "output_type": "execute_result"
    }
   ],
   "source": [
    "np.arange(20,10)"
   ]
  },
  {
   "cell_type": "code",
   "execution_count": 16,
   "id": "f77c6518-aac9-446d-9c5e-82c9ea98c172",
   "metadata": {},
   "outputs": [
    {
     "data": {
      "text/plain": [
       "array([-20, -19, -18, -17, -16, -15, -14, -13, -12, -11, -10,  -9,  -8,\n",
       "        -7,  -6,  -5,  -4,  -3,  -2,  -1,   0,   1,   2,   3,   4,   5,\n",
       "         6,   7,   8,   9])"
      ]
     },
     "execution_count": 16,
     "metadata": {},
     "output_type": "execute_result"
    }
   ],
   "source": [
    "np.arange(-20,10)"
   ]
  },
  {
   "cell_type": "code",
   "execution_count": 17,
   "id": "2d6b1796-09fc-4a81-8645-705202621f5c",
   "metadata": {},
   "outputs": [
    {
     "data": {
      "text/plain": [
       "array([-20, -19, -18, -17, -16, -15, -14, -13, -12, -11])"
      ]
     },
     "execution_count": 17,
     "metadata": {},
     "output_type": "execute_result"
    }
   ],
   "source": [
    "np.arange(-20,-10)"
   ]
  },
  {
   "cell_type": "code",
   "execution_count": 18,
   "id": "7c764f92-8aec-4482-b84f-f74a966fce37",
   "metadata": {},
   "outputs": [
    {
     "data": {
      "text/plain": [
       "array([], dtype=int32)"
      ]
     },
     "execution_count": 18,
     "metadata": {},
     "output_type": "execute_result"
    }
   ],
   "source": [
    "np.arange(10,10)"
   ]
  },
  {
   "cell_type": "code",
   "execution_count": 19,
   "id": "9aa01797-9b54-49f3-816c-71dc782ee6eb",
   "metadata": {},
   "outputs": [
    {
     "data": {
      "text/plain": [
       "array([-1000,  -999,  -998, ...,   997,   998,   999])"
      ]
     },
     "execution_count": 19,
     "metadata": {},
     "output_type": "execute_result"
    }
   ],
   "source": [
    "np.arange(-1000,1000)"
   ]
  },
  {
   "cell_type": "code",
   "execution_count": 20,
   "id": "8326f686-6626-45f9-bcb0-ce07974b0743",
   "metadata": {},
   "outputs": [
    {
     "data": {
      "text/plain": [
       "array([10, 15, 20, 25])"
      ]
     },
     "execution_count": 20,
     "metadata": {},
     "output_type": "execute_result"
    }
   ],
   "source": [
    "np.arange(10,30,5)"
   ]
  },
  {
   "cell_type": "code",
   "execution_count": 21,
   "id": "93fd8b97-22a2-4753-bf4f-7aab7d0bfb8b",
   "metadata": {},
   "outputs": [
    {
     "data": {
      "text/plain": [
       "array([0., 0., 0., 0., 0.])"
      ]
     },
     "execution_count": 21,
     "metadata": {},
     "output_type": "execute_result"
    }
   ],
   "source": [
    "np.zeros(5)"
   ]
  },
  {
   "cell_type": "code",
   "execution_count": 22,
   "id": "38934952-c6ba-4252-bb13-37f1436eef36",
   "metadata": {},
   "outputs": [
    {
     "data": {
      "text/plain": [
       "array([0, 0, 0, 0, 0])"
      ]
     },
     "execution_count": 22,
     "metadata": {},
     "output_type": "execute_result"
    }
   ],
   "source": [
    "np.zeros(5,dtype=int)"
   ]
  },
  {
   "cell_type": "code",
   "execution_count": 23,
   "id": "758acce1-d0db-4abd-ad72-1d889b57bf24",
   "metadata": {},
   "outputs": [
    {
     "data": {
      "text/plain": [
       "array([[0., 0., 0., 0., 0., 0., 0., 0., 0., 0.],\n",
       "       [0., 0., 0., 0., 0., 0., 0., 0., 0., 0.],\n",
       "       [0., 0., 0., 0., 0., 0., 0., 0., 0., 0.],\n",
       "       [0., 0., 0., 0., 0., 0., 0., 0., 0., 0.],\n",
       "       [0., 0., 0., 0., 0., 0., 0., 0., 0., 0.],\n",
       "       [0., 0., 0., 0., 0., 0., 0., 0., 0., 0.],\n",
       "       [0., 0., 0., 0., 0., 0., 0., 0., 0., 0.],\n",
       "       [0., 0., 0., 0., 0., 0., 0., 0., 0., 0.],\n",
       "       [0., 0., 0., 0., 0., 0., 0., 0., 0., 0.],\n",
       "       [0., 0., 0., 0., 0., 0., 0., 0., 0., 0.]])"
      ]
     },
     "execution_count": 23,
     "metadata": {},
     "output_type": "execute_result"
    }
   ],
   "source": [
    "np.zeros((10,10))"
   ]
  },
  {
   "cell_type": "code",
   "execution_count": 24,
   "id": "c51c3b92-c9d0-45b1-83a6-f8ded2b91efb",
   "metadata": {},
   "outputs": [
    {
     "data": {
      "text/plain": [
       "array([[0, 0, 0, 0, 0, 0, 0, 0, 0, 0],\n",
       "       [0, 0, 0, 0, 0, 0, 0, 0, 0, 0],\n",
       "       [0, 0, 0, 0, 0, 0, 0, 0, 0, 0],\n",
       "       [0, 0, 0, 0, 0, 0, 0, 0, 0, 0],\n",
       "       [0, 0, 0, 0, 0, 0, 0, 0, 0, 0],\n",
       "       [0, 0, 0, 0, 0, 0, 0, 0, 0, 0],\n",
       "       [0, 0, 0, 0, 0, 0, 0, 0, 0, 0],\n",
       "       [0, 0, 0, 0, 0, 0, 0, 0, 0, 0],\n",
       "       [0, 0, 0, 0, 0, 0, 0, 0, 0, 0],\n",
       "       [0, 0, 0, 0, 0, 0, 0, 0, 0, 0]])"
      ]
     },
     "execution_count": 24,
     "metadata": {},
     "output_type": "execute_result"
    }
   ],
   "source": [
    "np.zeros((10,10),dtype=int)"
   ]
  },
  {
   "cell_type": "code",
   "execution_count": 25,
   "id": "e53e4ab6-f114-4494-8ced-2305e0323b2d",
   "metadata": {},
   "outputs": [
    {
     "data": {
      "text/plain": [
       "numpy.ndarray"
      ]
     },
     "execution_count": 25,
     "metadata": {},
     "output_type": "execute_result"
    }
   ],
   "source": [
    "zero=np.zeros([2,2])\n",
    "type(zero)"
   ]
  },
  {
   "cell_type": "code",
   "execution_count": 26,
   "id": "7ea03d5b-912a-44a2-8039-ebc500546410",
   "metadata": {},
   "outputs": [
    {
     "data": {
      "text/plain": [
       "array([[0., 0., 0., 0., 0., 0., 0., 0., 0., 0.],\n",
       "       [0., 0., 0., 0., 0., 0., 0., 0., 0., 0.]])"
      ]
     },
     "execution_count": 26,
     "metadata": {},
     "output_type": "execute_result"
    }
   ],
   "source": [
    "np.zeros((2,10))"
   ]
  },
  {
   "cell_type": "code",
   "execution_count": 27,
   "id": "ab72da67-41a5-481d-be82-557c481751b9",
   "metadata": {},
   "outputs": [
    {
     "name": "stdout",
     "output_type": "stream",
     "text": [
      "[[0. 0. 0. 0. 0. 0. 0.]\n",
      " [0. 0. 0. 0. 0. 0. 0.]\n",
      " [0. 0. 0. 0. 0. 0. 0.]\n",
      " [0. 0. 0. 0. 0. 0. 0.]\n",
      " [0. 0. 0. 0. 0. 0. 0.]\n",
      " [0. 0. 0. 0. 0. 0. 0.]]\n"
     ]
    }
   ],
   "source": [
    "n=(6,7)\n",
    "n1=(6,8)\n",
    "print(np.zeros(n))"
   ]
  },
  {
   "cell_type": "code",
   "execution_count": 28,
   "id": "ee918fba-8ad0-4fc7-8efb-6de1d84322c8",
   "metadata": {},
   "outputs": [
    {
     "name": "stdout",
     "output_type": "stream",
     "text": [
      "[[0 0 0 0 0 0 0 0]\n",
      " [0 0 0 0 0 0 0 0]\n",
      " [0 0 0 0 0 0 0 0]\n",
      " [0 0 0 0 0 0 0 0]\n",
      " [0 0 0 0 0 0 0 0]\n",
      " [0 0 0 0 0 0 0 0]]\n"
     ]
    }
   ],
   "source": [
    "print(np.zeros(n1,dtype=int))"
   ]
  },
  {
   "cell_type": "code",
   "execution_count": 29,
   "id": "cf75fb3c-d071-42b8-b9ef-bf7b2eee85e5",
   "metadata": {},
   "outputs": [
    {
     "data": {
      "text/plain": [
       "array([1, 1, 1, 1])"
      ]
     },
     "execution_count": 29,
     "metadata": {},
     "output_type": "execute_result"
    }
   ],
   "source": [
    "np.ones(4,dtype=int)"
   ]
  },
  {
   "cell_type": "code",
   "execution_count": 30,
   "id": "bd9a5fea-74a9-4007-adaf-804024314ff8",
   "metadata": {},
   "outputs": [
    {
     "data": {
      "text/plain": [
       "array([[1, 1, 1, 1],\n",
       "       [1, 1, 1, 1],\n",
       "       [1, 1, 1, 1],\n",
       "       [1, 1, 1, 1],\n",
       "       [1, 1, 1, 1]])"
      ]
     },
     "execution_count": 30,
     "metadata": {},
     "output_type": "execute_result"
    }
   ],
   "source": [
    "np.ones((5,4),dtype=int)"
   ]
  },
  {
   "cell_type": "code",
   "execution_count": 31,
   "id": "c4d93709-b9ff-45d7-bd29-8036db2af39f",
   "metadata": {},
   "outputs": [
    {
     "data": {
      "text/plain": [
       "range(0, 5)"
      ]
     },
     "execution_count": 31,
     "metadata": {},
     "output_type": "execute_result"
    }
   ],
   "source": [
    "range(5)"
   ]
  },
  {
   "cell_type": "code",
   "execution_count": 32,
   "id": "51d0496a-4878-4222-8a1e-3528c14cc3e8",
   "metadata": {},
   "outputs": [
    {
     "data": {
      "text/plain": [
       "range(0, 5)"
      ]
     },
     "execution_count": 32,
     "metadata": {},
     "output_type": "execute_result"
    }
   ],
   "source": [
    "r=range(5)\n",
    "r"
   ]
  },
  {
   "cell_type": "code",
   "execution_count": 33,
   "id": "d248d1dd-8990-4199-bfb8-d6a3ff4f9d32",
   "metadata": {},
   "outputs": [
    {
     "name": "stdout",
     "output_type": "stream",
     "text": [
      "0\n",
      "1\n",
      "2\n",
      "3\n",
      "4\n"
     ]
    }
   ],
   "source": [
    "for i in r:\n",
    "    print(i)"
   ]
  },
  {
   "cell_type": "code",
   "execution_count": 34,
   "id": "2a5af213-67b7-4944-b6c8-be45961ccfe5",
   "metadata": {},
   "outputs": [
    {
     "data": {
      "text/plain": [
       "[0, 1, 2, 3, 4]"
      ]
     },
     "execution_count": 34,
     "metadata": {},
     "output_type": "execute_result"
    }
   ],
   "source": [
    "list(range(5))\n",
    "[0,1,2,3,4]\n",
    "     "
   ]
  },
  {
   "cell_type": "code",
   "execution_count": 35,
   "id": "4a73318a-6377-4a86-9439-aa6a434574be",
   "metadata": {},
   "outputs": [
    {
     "data": {
      "text/plain": [
       "[0, 1, 2, 3, 4]"
      ]
     },
     "execution_count": 35,
     "metadata": {},
     "output_type": "execute_result"
    }
   ],
   "source": [
    "list(range(5))\n",
    "[0,1,2,3,4]"
   ]
  },
  {
   "cell_type": "code",
   "execution_count": 36,
   "id": "810a4d81-0337-4dfc-a032-a813b72ca622",
   "metadata": {},
   "outputs": [
    {
     "data": {
      "text/plain": [
       "range(1, 10)"
      ]
     },
     "execution_count": 36,
     "metadata": {},
     "output_type": "execute_result"
    }
   ],
   "source": [
    "range(1,10)"
   ]
  },
  {
   "cell_type": "code",
   "execution_count": 37,
   "id": "d11fcc91-f7ef-4b3e-93bb-de8d3a89c088",
   "metadata": {},
   "outputs": [
    {
     "data": {
      "text/plain": [
       "[1, 2, 3, 4, 5, 6, 7, 8, 9]"
      ]
     },
     "execution_count": 37,
     "metadata": {},
     "output_type": "execute_result"
    }
   ],
   "source": [
    "list(range(1,10))\n"
   ]
  },
  {
   "cell_type": "code",
   "execution_count": 39,
   "id": "bed2b653-4ed3-491e-af43-99641c1ee612",
   "metadata": {},
   "outputs": [
    {
     "data": {
      "text/plain": [
       "[1, 4, 7, 10, 13, 16, 19]"
      ]
     },
     "execution_count": 39,
     "metadata": {},
     "output_type": "execute_result"
    }
   ],
   "source": [
    "list(range(1,20,3))"
   ]
  },
  {
   "cell_type": "code",
   "execution_count": 40,
   "id": "78386a5a-7c20-47cd-99c1-d4e397763e3e",
   "metadata": {},
   "outputs": [
    {
     "data": {
      "text/plain": [
       "[0, 1, 2, 3, 4, 5, 6, 7, 8, 9, 10, 11]"
      ]
     },
     "execution_count": 40,
     "metadata": {},
     "output_type": "execute_result"
    }
   ],
   "source": [
    "y=list(range(12))\n",
    "y"
   ]
  },
  {
   "cell_type": "code",
   "execution_count": 41,
   "id": "05cb1a32-4ae0-41b2-8274-6829221a2c4e",
   "metadata": {},
   "outputs": [
    {
     "data": {
      "text/plain": [
       "array([[0.28718124, 0.24988118],\n",
       "       [0.79523383, 0.55934544],\n",
       "       [0.99148995, 0.99259113]])"
      ]
     },
     "execution_count": 41,
     "metadata": {},
     "output_type": "execute_result"
    }
   ],
   "source": [
    "np.random.rand(3,2)"
   ]
  },
  {
   "cell_type": "code",
   "execution_count": 42,
   "id": "5915380f-d8cb-4172-841b-10c747b73bbf",
   "metadata": {},
   "outputs": [
    {
     "data": {
      "text/plain": [
       "array([0.89483186, 0.42033695, 0.99410799, 0.42576254])"
      ]
     },
     "execution_count": 42,
     "metadata": {},
     "output_type": "execute_result"
    }
   ],
   "source": [
    "np.random.rand(4)"
   ]
  },
  {
   "cell_type": "code",
   "execution_count": 44,
   "id": "e1606506-9cce-4a3b-8bb5-9f609fc1b544",
   "metadata": {},
   "outputs": [
    {
     "data": {
      "text/plain": [
       "array([[0.11635698, 0.19457403, 0.01954021, 0.67363637, 0.02067767,\n",
       "        0.34568781],\n",
       "       [0.46227536, 0.80315852, 0.66890588, 0.29781105, 0.03632532,\n",
       "        0.82963004],\n",
       "       [0.45388837, 0.12655784, 0.5899013 , 0.34190246, 0.68166773,\n",
       "        0.13980535]])"
      ]
     },
     "execution_count": 44,
     "metadata": {},
     "output_type": "execute_result"
    }
   ],
   "source": [
    "np.random.rand(3,6)"
   ]
  },
  {
   "cell_type": "code",
   "execution_count": 45,
   "id": "5d188c53-4967-4e4d-b217-1eeb6d69dff2",
   "metadata": {},
   "outputs": [
    {
     "data": {
      "text/plain": [
       "3"
      ]
     },
     "execution_count": 45,
     "metadata": {},
     "output_type": "execute_result"
    }
   ],
   "source": [
    "np.random.randint(2,4)"
   ]
  },
  {
   "cell_type": "code",
   "execution_count": 46,
   "id": "e91cb27b-1481-43c6-92aa-ae84128e878c",
   "metadata": {},
   "outputs": [
    {
     "data": {
      "text/plain": [
       "73"
      ]
     },
     "execution_count": 46,
     "metadata": {},
     "output_type": "execute_result"
    }
   ],
   "source": [
    "np.random.randint(3,79)"
   ]
  },
  {
   "cell_type": "code",
   "execution_count": 47,
   "id": "1c1a0c00-6496-4d95-980d-ea2058867c2c",
   "metadata": {},
   "outputs": [
    {
     "data": {
      "text/plain": [
       "0"
      ]
     },
     "execution_count": 47,
     "metadata": {},
     "output_type": "execute_result"
    }
   ],
   "source": [
    "np.random.randint(0,1)"
   ]
  },
  {
   "cell_type": "code",
   "execution_count": 48,
   "id": "b002f8fc-62c5-4007-be11-9ce6bab95244",
   "metadata": {},
   "outputs": [
    {
     "data": {
      "text/plain": [
       "array([1, 1, 1])"
      ]
     },
     "execution_count": 48,
     "metadata": {},
     "output_type": "execute_result"
    }
   ],
   "source": [
    "np.random.randint(1,2,3)"
   ]
  },
  {
   "cell_type": "code",
   "execution_count": 49,
   "id": "dd23f333-714a-4317-9995-edd0b3e5b38b",
   "metadata": {},
   "outputs": [
    {
     "data": {
      "text/plain": [
       "0"
      ]
     },
     "execution_count": 49,
     "metadata": {},
     "output_type": "execute_result"
    }
   ],
   "source": [
    "np.random.randint(1)"
   ]
  },
  {
   "cell_type": "code",
   "execution_count": 50,
   "id": "a2cf592b-9aa2-4ce5-9f1c-9cc9d5591f9e",
   "metadata": {},
   "outputs": [
    {
     "data": {
      "text/plain": [
       "array([12, 16, 15])"
      ]
     },
     "execution_count": 50,
     "metadata": {},
     "output_type": "execute_result"
    }
   ],
   "source": [
    "np.random.randint(10,21,3)"
   ]
  },
  {
   "cell_type": "code",
   "execution_count": 52,
   "id": "8ba897ac-6dcc-42d6-9915-a5e8a1fa1e06",
   "metadata": {},
   "outputs": [
    {
     "data": {
      "text/plain": [
       "array([ 5,  9,  9, 10,  7,  4,  8,  5,  9,  4])"
      ]
     },
     "execution_count": 52,
     "metadata": {},
     "output_type": "execute_result"
    }
   ],
   "source": [
    "np.random.randint(1,12,10)"
   ]
  },
  {
   "cell_type": "code",
   "execution_count": 53,
   "id": "01d86d39-901c-48d0-85fa-6084fc530f77",
   "metadata": {},
   "outputs": [
    {
     "data": {
      "text/plain": [
       "array([[17, 31, 29, 25, 13, 20, 15, 33, 27, 12],\n",
       "       [36, 21, 22, 16, 11, 38, 13, 15, 23, 36],\n",
       "       [17, 16, 19, 12, 30, 32, 31, 18, 12, 23],\n",
       "       [17, 28, 33, 30, 20, 22, 28, 11, 21, 29],\n",
       "       [14, 13, 34, 12, 23, 25, 11, 16, 36, 27],\n",
       "       [12, 30, 12, 19, 29, 33, 21, 30, 33, 12],\n",
       "       [34, 27, 33, 15, 25, 21, 13, 29, 25, 33],\n",
       "       [17, 17, 22, 29, 22, 18, 20, 15, 32, 12],\n",
       "       [32, 19, 36, 27, 21, 21, 25, 23, 33, 30],\n",
       "       [20, 14, 19, 33, 22, 26, 25, 15, 14, 36]])"
      ]
     },
     "execution_count": 53,
     "metadata": {},
     "output_type": "execute_result"
    }
   ],
   "source": [
    "np.random.randint(10,40,(10,10))"
   ]
  },
  {
   "cell_type": "code",
   "execution_count": 54,
   "id": "ee211bf5-e6e8-4485-9e4a-16e45f1c711c",
   "metadata": {},
   "outputs": [
    {
     "data": {
      "text/plain": [
       "array([[18, 10, 17, 19],\n",
       "       [17, 12, 15, 16],\n",
       "       [11, 13, 19, 16],\n",
       "       [16, 14, 15, 16],\n",
       "       [18, 16, 12, 18]])"
      ]
     },
     "execution_count": 54,
     "metadata": {},
     "output_type": "execute_result"
    }
   ],
   "source": [
    "b=np.random.randint(10,20,(5,4))\n",
    "b"
   ]
  },
  {
   "cell_type": "markdown",
   "id": "d05c4dfe-0d80-46dc-b4d6-670a7beffe3e",
   "metadata": {},
   "source": [
    "# \":\"- is used for slicing,we need to"
   ]
  },
  {
   "cell_type": "markdown",
   "id": "baeb60d7-5856-4e53-a5f5-dc6cbdfeb921",
   "metadata": {},
   "source": [
    "provide rows and columns among the slicing point"
   ]
  },
  {
   "cell_type": "code",
   "execution_count": 55,
   "id": "62542964-e660-4d76-a958-9ba00fa27074",
   "metadata": {},
   "outputs": [
    {
     "data": {
      "text/plain": [
       "array([[18, 10, 17, 19],\n",
       "       [17, 12, 15, 16],\n",
       "       [11, 13, 19, 16],\n",
       "       [16, 14, 15, 16],\n",
       "       [18, 16, 12, 18]])"
      ]
     },
     "execution_count": 55,
     "metadata": {},
     "output_type": "execute_result"
    }
   ],
   "source": [
    "b[:]"
   ]
  },
  {
   "cell_type": "code",
   "execution_count": 56,
   "id": "b05e4e69-c0c8-4c7c-85d7-9dbe58adc5bc",
   "metadata": {},
   "outputs": [
    {
     "data": {
      "text/plain": [
       "array([[18, 10, 17, 19],\n",
       "       [17, 12, 15, 16],\n",
       "       [11, 13, 19, 16],\n",
       "       [16, 14, 15, 16]])"
      ]
     },
     "execution_count": 56,
     "metadata": {},
     "output_type": "execute_result"
    }
   ],
   "source": [
    "b[0:-1]"
   ]
  },
  {
   "cell_type": "markdown",
   "id": "b68250c9-1138-45d9-821d-194cb6cf7b67",
   "metadata": {},
   "source": [
    "# \",\" is used to get specific indexing number"
   ]
  },
  {
   "cell_type": "code",
   "execution_count": 57,
   "id": "e13b15c6-2871-49d7-97e1-b7b6feb084b6",
   "metadata": {},
   "outputs": [
    {
     "data": {
      "text/plain": [
       "17"
      ]
     },
     "execution_count": 57,
     "metadata": {},
     "output_type": "execute_result"
    }
   ],
   "source": [
    "b[0,2]"
   ]
  },
  {
   "cell_type": "code",
   "execution_count": 58,
   "id": "92b63582-5b72-41e8-9668-016a0036421b",
   "metadata": {},
   "outputs": [
    {
     "data": {
      "text/plain": [
       "array([[19, 10, 14, 19],\n",
       "       [19, 16, 18, 18],\n",
       "       [17, 17, 12, 11],\n",
       "       [15, 10, 19, 14]])"
      ]
     },
     "execution_count": 58,
     "metadata": {},
     "output_type": "execute_result"
    }
   ],
   "source": [
    "np.random.randint(10,20,(4,4))"
   ]
  },
  {
   "cell_type": "markdown",
   "id": "fdfc0888-20f2-4a4d-a662-a6932d95c7b8",
   "metadata": {},
   "source": [
    "# Operation"
   ]
  },
  {
   "cell_type": "code",
   "execution_count": 59,
   "id": "703e893d-467c-46f9-8685-c7378ed98ce1",
   "metadata": {},
   "outputs": [
    {
     "data": {
      "text/plain": [
       "array([16, 13, 17, 18, 13])"
      ]
     },
     "execution_count": 59,
     "metadata": {},
     "output_type": "execute_result"
    }
   ],
   "source": [
    "a=np.random.randint(10,20,5)\n",
    "a"
   ]
  },
  {
   "cell_type": "code",
   "execution_count": 60,
   "id": "33cf5214-93cc-49bc-affa-2f20e82992a6",
   "metadata": {},
   "outputs": [
    {
     "data": {
      "text/plain": [
       "array([0, 1, 2, 3, 4, 5])"
      ]
     },
     "execution_count": 60,
     "metadata": {},
     "output_type": "execute_result"
    }
   ],
   "source": [
    "arr"
   ]
  },
  {
   "cell_type": "code",
   "execution_count": 61,
   "id": "2cce281e-8164-455f-8d7f-89389f2c6f45",
   "metadata": {},
   "outputs": [
    {
     "data": {
      "text/plain": [
       "array([[49,  7, 72, 10, 63, 33, 75, 21, 69, 85],\n",
       "       [97, 29, 81, 33, 11, 57, 53,  4, 21, 28],\n",
       "       [89, 19,  8, 62, 37, 97,  0, 12, 35, 94],\n",
       "       [86, 65, 80, 27, 56, 17, 30, 43, 74, 57],\n",
       "       [ 6, 32, 51, 47, 59, 17,  8, 43, 14, 57],\n",
       "       [11, 61, 20, 56, 93,  9,  6, 29, 26, 87],\n",
       "       [18, 64, 47, 27, 48, 51, 95,  7, 99, 81],\n",
       "       [23, 51, 75, 53, 85, 12, 56, 68, 60, 12],\n",
       "       [59, 41, 62, 30, 53, 17, 97, 92, 42, 94],\n",
       "       [75, 91, 11, 80, 20, 67, 48, 68, 62, 16],\n",
       "       [93, 19, 75, 55, 87, 94, 89, 35, 20, 83],\n",
       "       [27, 52, 84, 29,  0,  8, 85, 61, 78, 96],\n",
       "       [ 6, 69, 28, 60, 32, 93, 22, 44, 41, 66],\n",
       "       [87, 23, 53, 27, 22,  8,  8, 80,  4, 52],\n",
       "       [57,  8, 99,  7, 70, 40, 43, 65, 43, 94],\n",
       "       [14, 44, 31, 46, 41, 42,  2, 16, 23, 32],\n",
       "       [85, 23, 72, 73, 50, 70, 73, 73, 70,  9],\n",
       "       [11, 21, 74, 55, 23, 66, 19, 43, 57,  1],\n",
       "       [20, 73, 85, 33, 83, 66, 10, 46, 28, 93],\n",
       "       [75,  4, 18, 38, 58, 21, 36, 85, 98, 18],\n",
       "       [31, 19, 44, 22, 14, 93,  9, 43, 76, 52],\n",
       "       [94, 46, 17, 43, 46, 27, 34, 82, 13, 78],\n",
       "       [84, 79, 62,  1, 76, 66, 39, 93, 45, 73],\n",
       "       [63, 72, 14, 36, 89, 38, 48, 32, 80, 86],\n",
       "       [35, 13, 39, 88, 21, 12, 19, 21, 47, 75],\n",
       "       [27, 33, 79, 30, 70, 25, 11, 99, 75, 88],\n",
       "       [50, 98, 56, 73, 66, 78, 44, 46,  7, 65],\n",
       "       [61, 68, 22, 16,  6, 15, 38, 12, 71, 35],\n",
       "       [68,  6, 73, 34, 30, 26, 54, 88, 99, 97],\n",
       "       [90, 32, 68, 34, 23,  1, 90, 30, 91, 37],\n",
       "       [37, 79,  2, 77, 72, 96, 41, 96, 60, 53],\n",
       "       [34, 44, 44, 97, 11, 71, 59, 77, 26, 82],\n",
       "       [36,  4, 61, 28, 41, 34,  0, 34,  7, 39],\n",
       "       [20, 68, 37,  5, 92, 26, 27, 97, 71,  5],\n",
       "       [76, 48, 27,  7, 27, 14, 38, 92, 58, 60],\n",
       "       [40, 67, 20, 78, 99, 12,  3, 81,  8,  1],\n",
       "       [67, 67, 61,  9, 26, 18, 55, 95, 55, 23],\n",
       "       [ 9, 57,  0, 28, 33, 78, 81, 92, 88, 38],\n",
       "       [ 8,  5, 67, 34, 44, 73, 95, 15, 16, 76],\n",
       "       [65, 23, 50,  2, 45, 94, 96, 11, 36, 26],\n",
       "       [75, 66, 46,  5, 49, 51, 10, 31, 62, 97],\n",
       "       [20,  4, 87, 28, 71, 96, 29,  6, 27, 40],\n",
       "       [83, 68, 25,  0, 66, 77, 71, 20, 57,  9],\n",
       "       [69, 25, 43, 35, 14, 50, 51, 67,  2, 31],\n",
       "       [15, 22, 30, 43, 67, 91, 34, 63, 29, 32],\n",
       "       [68, 30, 91, 90, 94, 38, 30, 34, 62, 34],\n",
       "       [88, 63, 10, 40, 36,  0, 24, 10, 73, 53],\n",
       "       [77, 22, 69, 41, 67, 29, 58, 95, 80, 37],\n",
       "       [67, 87, 10, 61, 97, 10, 41, 71, 14, 42],\n",
       "       [36, 95,  2, 66,  3, 11, 82, 46, 89, 16],\n",
       "       [71, 79, 79, 39, 68, 86, 32, 92, 66, 60],\n",
       "       [11, 48, 59, 78, 33, 10, 15, 24, 36, 10],\n",
       "       [21, 44, 70, 38, 75,  0, 16, 51, 72, 57],\n",
       "       [93, 89,  1, 42, 97, 72, 59, 40, 61, 38],\n",
       "       [70, 61,  3, 51, 11, 40, 20, 51,  6, 48],\n",
       "       [80, 37, 86, 85, 85, 41,  1, 23, 14, 70],\n",
       "       [62, 52, 71, 11, 72, 84, 34, 46, 76, 93],\n",
       "       [78, 89, 99, 65, 70, 19, 30, 13, 14, 35],\n",
       "       [46, 10, 68, 54, 79,  3,  4, 41, 58,  7],\n",
       "       [53, 41, 27, 43, 84, 43, 74, 91, 32, 40],\n",
       "       [ 2, 25, 45, 62,  8, 80, 23, 33, 66, 74],\n",
       "       [10, 56, 33, 52, 46, 92, 60, 62, 69, 41],\n",
       "       [76, 31, 99, 23, 61, 11, 49, 33, 74,  8],\n",
       "       [38, 23, 26, 73, 22, 20, 35, 21,  1, 43],\n",
       "       [86, 71,  5, 68,  5, 79, 84, 65, 75, 22],\n",
       "       [95,  0, 54, 85, 97, 79, 64, 60, 62, 71],\n",
       "       [40, 90, 20,  9, 55, 53, 39, 51, 51, 25],\n",
       "       [58,  3,  7, 24, 50, 45, 99, 76, 93, 21],\n",
       "       [50, 31, 57, 69, 43, 23, 58, 52, 13, 14],\n",
       "       [36, 40, 53, 80, 81, 21, 36, 21, 73, 42],\n",
       "       [54, 75, 80, 78, 88, 27, 41, 77, 44, 84],\n",
       "       [92, 60, 32, 16, 72, 92, 53, 69, 15, 95],\n",
       "       [84, 59, 33, 93, 47, 93, 59, 51, 71, 11],\n",
       "       [15, 17, 82, 40, 79, 33, 90, 60, 53, 89],\n",
       "       [58, 84, 82, 12,  2, 83,  3, 70, 65, 73],\n",
       "       [ 6, 47, 49, 58, 46, 95, 39, 40, 15, 27],\n",
       "       [50, 75, 85, 27, 77, 44,  5, 25, 44, 95],\n",
       "       [42, 89, 77, 45, 60, 20, 56, 72, 12, 41],\n",
       "       [86, 27, 21, 50, 41, 93,  1, 82,  5,  2],\n",
       "       [81,  5, 24, 34, 61, 61, 52, 92,  0,  4],\n",
       "       [53, 74, 73, 46,  6, 59, 68, 75, 52, 46],\n",
       "       [77, 12, 20,  4, 61, 27,  4, 65, 98, 42],\n",
       "       [72, 62, 17, 14, 38, 94, 22, 32, 81, 17],\n",
       "       [19, 75, 21, 53, 32, 11, 75, 13, 77, 92],\n",
       "       [51, 28, 97,  8, 95, 99, 16,  9, 54, 40],\n",
       "       [43, 65, 59, 23, 19, 90,  3, 37, 85, 56],\n",
       "       [70, 26, 99, 18, 90, 62, 13, 29, 43, 12],\n",
       "       [75, 32, 41, 27, 71, 45, 85, 21, 69, 97],\n",
       "       [59, 73, 95, 84, 13, 76, 72,  8,  7, 23],\n",
       "       [ 2, 56, 78, 54, 83, 78, 72, 90, 26, 68],\n",
       "       [37, 75, 31, 81, 19,  1, 38, 61, 47, 85],\n",
       "       [12, 85, 98, 44,  4, 97, 28, 47, 87, 78],\n",
       "       [69, 52, 69, 82, 25, 22, 68, 83, 57, 69],\n",
       "       [78, 42, 13, 80, 86, 12, 81, 92,  9, 45],\n",
       "       [58, 12, 19, 81, 53, 61, 48, 55, 41, 60],\n",
       "       [97, 12, 42, 54, 12, 75, 26, 57, 63, 43],\n",
       "       [ 1, 76, 12, 71, 23, 17, 23, 34,  0, 37],\n",
       "       [38, 99, 44, 43, 38,  3, 18,  0, 53, 81],\n",
       "       [38, 86, 34, 18, 27, 48, 68, 93, 14, 37],\n",
       "       [67, 23, 76,  7, 42, 83,  8, 51, 47, 90]])"
      ]
     },
     "execution_count": 61,
     "metadata": {},
     "output_type": "execute_result"
    }
   ],
   "source": [
    "arr2=np.random.randint(0,100,(100,10))\n",
    "arr2"
   ]
  },
  {
   "cell_type": "code",
   "execution_count": 62,
   "id": "5e9abf6f-9f52-42f0-a2a9-3f7ce4300e76",
   "metadata": {},
   "outputs": [
    {
     "data": {
      "text/plain": [
       "array([0, 1, 2, 3, 4, 5])"
      ]
     },
     "execution_count": 62,
     "metadata": {},
     "output_type": "execute_result"
    }
   ],
   "source": [
    "arr"
   ]
  },
  {
   "cell_type": "code",
   "execution_count": 63,
   "id": "7bb3b643-32ab-4487-84f7-f14d0481998b",
   "metadata": {},
   "outputs": [
    {
     "data": {
      "text/plain": [
       "array([0, 1, 2, 3, 4, 5])"
      ]
     },
     "execution_count": 63,
     "metadata": {},
     "output_type": "execute_result"
    }
   ],
   "source": [
    "arr[:]"
   ]
  },
  {
   "cell_type": "code",
   "execution_count": 64,
   "id": "49131eb8-8510-4e7e-be40-e6456577285d",
   "metadata": {},
   "outputs": [
    {
     "data": {
      "text/plain": [
       "array([0, 1, 2, 3])"
      ]
     },
     "execution_count": 64,
     "metadata": {},
     "output_type": "execute_result"
    }
   ],
   "source": [
    "arr[:4]"
   ]
  },
  {
   "cell_type": "code",
   "execution_count": 65,
   "id": "de0dfa2d-c0d1-478a-997f-8edaf0adf34d",
   "metadata": {},
   "outputs": [
    {
     "data": {
      "text/plain": [
       "array([[49,  7, 72, 10, 63, 33, 75, 21, 69, 85],\n",
       "       [97, 29, 81, 33, 11, 57, 53,  4, 21, 28],\n",
       "       [89, 19,  8, 62, 37, 97,  0, 12, 35, 94],\n",
       "       [86, 65, 80, 27, 56, 17, 30, 43, 74, 57],\n",
       "       [ 6, 32, 51, 47, 59, 17,  8, 43, 14, 57],\n",
       "       [11, 61, 20, 56, 93,  9,  6, 29, 26, 87],\n",
       "       [18, 64, 47, 27, 48, 51, 95,  7, 99, 81],\n",
       "       [23, 51, 75, 53, 85, 12, 56, 68, 60, 12],\n",
       "       [59, 41, 62, 30, 53, 17, 97, 92, 42, 94],\n",
       "       [75, 91, 11, 80, 20, 67, 48, 68, 62, 16],\n",
       "       [93, 19, 75, 55, 87, 94, 89, 35, 20, 83],\n",
       "       [27, 52, 84, 29,  0,  8, 85, 61, 78, 96],\n",
       "       [ 6, 69, 28, 60, 32, 93, 22, 44, 41, 66],\n",
       "       [87, 23, 53, 27, 22,  8,  8, 80,  4, 52],\n",
       "       [57,  8, 99,  7, 70, 40, 43, 65, 43, 94],\n",
       "       [14, 44, 31, 46, 41, 42,  2, 16, 23, 32],\n",
       "       [85, 23, 72, 73, 50, 70, 73, 73, 70,  9],\n",
       "       [11, 21, 74, 55, 23, 66, 19, 43, 57,  1],\n",
       "       [20, 73, 85, 33, 83, 66, 10, 46, 28, 93],\n",
       "       [75,  4, 18, 38, 58, 21, 36, 85, 98, 18],\n",
       "       [31, 19, 44, 22, 14, 93,  9, 43, 76, 52],\n",
       "       [94, 46, 17, 43, 46, 27, 34, 82, 13, 78],\n",
       "       [84, 79, 62,  1, 76, 66, 39, 93, 45, 73],\n",
       "       [63, 72, 14, 36, 89, 38, 48, 32, 80, 86],\n",
       "       [35, 13, 39, 88, 21, 12, 19, 21, 47, 75],\n",
       "       [27, 33, 79, 30, 70, 25, 11, 99, 75, 88],\n",
       "       [50, 98, 56, 73, 66, 78, 44, 46,  7, 65],\n",
       "       [61, 68, 22, 16,  6, 15, 38, 12, 71, 35],\n",
       "       [68,  6, 73, 34, 30, 26, 54, 88, 99, 97],\n",
       "       [90, 32, 68, 34, 23,  1, 90, 30, 91, 37],\n",
       "       [37, 79,  2, 77, 72, 96, 41, 96, 60, 53],\n",
       "       [34, 44, 44, 97, 11, 71, 59, 77, 26, 82],\n",
       "       [36,  4, 61, 28, 41, 34,  0, 34,  7, 39],\n",
       "       [20, 68, 37,  5, 92, 26, 27, 97, 71,  5],\n",
       "       [76, 48, 27,  7, 27, 14, 38, 92, 58, 60],\n",
       "       [40, 67, 20, 78, 99, 12,  3, 81,  8,  1],\n",
       "       [67, 67, 61,  9, 26, 18, 55, 95, 55, 23],\n",
       "       [ 9, 57,  0, 28, 33, 78, 81, 92, 88, 38],\n",
       "       [ 8,  5, 67, 34, 44, 73, 95, 15, 16, 76],\n",
       "       [65, 23, 50,  2, 45, 94, 96, 11, 36, 26],\n",
       "       [75, 66, 46,  5, 49, 51, 10, 31, 62, 97],\n",
       "       [20,  4, 87, 28, 71, 96, 29,  6, 27, 40],\n",
       "       [83, 68, 25,  0, 66, 77, 71, 20, 57,  9],\n",
       "       [69, 25, 43, 35, 14, 50, 51, 67,  2, 31],\n",
       "       [15, 22, 30, 43, 67, 91, 34, 63, 29, 32],\n",
       "       [68, 30, 91, 90, 94, 38, 30, 34, 62, 34],\n",
       "       [88, 63, 10, 40, 36,  0, 24, 10, 73, 53],\n",
       "       [77, 22, 69, 41, 67, 29, 58, 95, 80, 37],\n",
       "       [67, 87, 10, 61, 97, 10, 41, 71, 14, 42],\n",
       "       [36, 95,  2, 66,  3, 11, 82, 46, 89, 16],\n",
       "       [71, 79, 79, 39, 68, 86, 32, 92, 66, 60],\n",
       "       [11, 48, 59, 78, 33, 10, 15, 24, 36, 10],\n",
       "       [21, 44, 70, 38, 75,  0, 16, 51, 72, 57],\n",
       "       [93, 89,  1, 42, 97, 72, 59, 40, 61, 38],\n",
       "       [70, 61,  3, 51, 11, 40, 20, 51,  6, 48],\n",
       "       [80, 37, 86, 85, 85, 41,  1, 23, 14, 70],\n",
       "       [62, 52, 71, 11, 72, 84, 34, 46, 76, 93],\n",
       "       [78, 89, 99, 65, 70, 19, 30, 13, 14, 35],\n",
       "       [46, 10, 68, 54, 79,  3,  4, 41, 58,  7],\n",
       "       [53, 41, 27, 43, 84, 43, 74, 91, 32, 40],\n",
       "       [ 2, 25, 45, 62,  8, 80, 23, 33, 66, 74],\n",
       "       [10, 56, 33, 52, 46, 92, 60, 62, 69, 41],\n",
       "       [76, 31, 99, 23, 61, 11, 49, 33, 74,  8],\n",
       "       [38, 23, 26, 73, 22, 20, 35, 21,  1, 43],\n",
       "       [86, 71,  5, 68,  5, 79, 84, 65, 75, 22],\n",
       "       [95,  0, 54, 85, 97, 79, 64, 60, 62, 71],\n",
       "       [40, 90, 20,  9, 55, 53, 39, 51, 51, 25],\n",
       "       [58,  3,  7, 24, 50, 45, 99, 76, 93, 21],\n",
       "       [50, 31, 57, 69, 43, 23, 58, 52, 13, 14],\n",
       "       [36, 40, 53, 80, 81, 21, 36, 21, 73, 42],\n",
       "       [54, 75, 80, 78, 88, 27, 41, 77, 44, 84],\n",
       "       [92, 60, 32, 16, 72, 92, 53, 69, 15, 95],\n",
       "       [84, 59, 33, 93, 47, 93, 59, 51, 71, 11],\n",
       "       [15, 17, 82, 40, 79, 33, 90, 60, 53, 89],\n",
       "       [58, 84, 82, 12,  2, 83,  3, 70, 65, 73],\n",
       "       [ 6, 47, 49, 58, 46, 95, 39, 40, 15, 27],\n",
       "       [50, 75, 85, 27, 77, 44,  5, 25, 44, 95],\n",
       "       [42, 89, 77, 45, 60, 20, 56, 72, 12, 41],\n",
       "       [86, 27, 21, 50, 41, 93,  1, 82,  5,  2],\n",
       "       [81,  5, 24, 34, 61, 61, 52, 92,  0,  4],\n",
       "       [53, 74, 73, 46,  6, 59, 68, 75, 52, 46],\n",
       "       [77, 12, 20,  4, 61, 27,  4, 65, 98, 42],\n",
       "       [72, 62, 17, 14, 38, 94, 22, 32, 81, 17],\n",
       "       [19, 75, 21, 53, 32, 11, 75, 13, 77, 92],\n",
       "       [51, 28, 97,  8, 95, 99, 16,  9, 54, 40],\n",
       "       [43, 65, 59, 23, 19, 90,  3, 37, 85, 56],\n",
       "       [70, 26, 99, 18, 90, 62, 13, 29, 43, 12],\n",
       "       [75, 32, 41, 27, 71, 45, 85, 21, 69, 97],\n",
       "       [59, 73, 95, 84, 13, 76, 72,  8,  7, 23],\n",
       "       [ 2, 56, 78, 54, 83, 78, 72, 90, 26, 68],\n",
       "       [37, 75, 31, 81, 19,  1, 38, 61, 47, 85],\n",
       "       [12, 85, 98, 44,  4, 97, 28, 47, 87, 78],\n",
       "       [69, 52, 69, 82, 25, 22, 68, 83, 57, 69],\n",
       "       [78, 42, 13, 80, 86, 12, 81, 92,  9, 45],\n",
       "       [58, 12, 19, 81, 53, 61, 48, 55, 41, 60],\n",
       "       [97, 12, 42, 54, 12, 75, 26, 57, 63, 43],\n",
       "       [ 1, 76, 12, 71, 23, 17, 23, 34,  0, 37],\n",
       "       [38, 99, 44, 43, 38,  3, 18,  0, 53, 81],\n",
       "       [38, 86, 34, 18, 27, 48, 68, 93, 14, 37],\n",
       "       [67, 23, 76,  7, 42, 83,  8, 51, 47, 90]])"
      ]
     },
     "execution_count": 65,
     "metadata": {},
     "output_type": "execute_result"
    }
   ],
   "source": [
    "arr2[:]"
   ]
  },
  {
   "cell_type": "code",
   "execution_count": 66,
   "id": "71bdef78-689f-4493-9e29-affed8d9cd09",
   "metadata": {},
   "outputs": [
    {
     "data": {
      "text/plain": [
       "array([[49,  7, 72, 10, 63, 33, 75, 21, 69, 85],\n",
       "       [97, 29, 81, 33, 11, 57, 53,  4, 21, 28],\n",
       "       [89, 19,  8, 62, 37, 97,  0, 12, 35, 94],\n",
       "       [86, 65, 80, 27, 56, 17, 30, 43, 74, 57],\n",
       "       [ 6, 32, 51, 47, 59, 17,  8, 43, 14, 57],\n",
       "       [11, 61, 20, 56, 93,  9,  6, 29, 26, 87]])"
      ]
     },
     "execution_count": 66,
     "metadata": {},
     "output_type": "execute_result"
    }
   ],
   "source": [
    "arr2[0:6]"
   ]
  },
  {
   "cell_type": "code",
   "execution_count": 67,
   "id": "327a946e-ce5a-4b5c-a89c-5884b1bd0a63",
   "metadata": {},
   "outputs": [
    {
     "data": {
      "text/plain": [
       "28"
      ]
     },
     "execution_count": 67,
     "metadata": {},
     "output_type": "execute_result"
    }
   ],
   "source": [
    "arr2[1,9]"
   ]
  },
  {
   "cell_type": "code",
   "execution_count": 68,
   "id": "abdad4e2-f845-4af2-8f86-8272fa03c42e",
   "metadata": {},
   "outputs": [
    {
     "data": {
      "text/plain": [
       "array([[49,  7, 72, 10, 63, 33, 75, 21, 69, 85],\n",
       "       [97, 29, 81, 33, 11, 57, 53,  4, 21, 28],\n",
       "       [89, 19,  8, 62, 37, 97,  0, 12, 35, 94],\n",
       "       [86, 65, 80, 27, 56, 17, 30, 43, 74, 57],\n",
       "       [ 6, 32, 51, 47, 59, 17,  8, 43, 14, 57],\n",
       "       [11, 61, 20, 56, 93,  9,  6, 29, 26, 87],\n",
       "       [18, 64, 47, 27, 48, 51, 95,  7, 99, 81],\n",
       "       [23, 51, 75, 53, 85, 12, 56, 68, 60, 12],\n",
       "       [59, 41, 62, 30, 53, 17, 97, 92, 42, 94],\n",
       "       [75, 91, 11, 80, 20, 67, 48, 68, 62, 16],\n",
       "       [93, 19, 75, 55, 87, 94, 89, 35, 20, 83],\n",
       "       [27, 52, 84, 29,  0,  8, 85, 61, 78, 96],\n",
       "       [ 6, 69, 28, 60, 32, 93, 22, 44, 41, 66],\n",
       "       [87, 23, 53, 27, 22,  8,  8, 80,  4, 52],\n",
       "       [57,  8, 99,  7, 70, 40, 43, 65, 43, 94],\n",
       "       [14, 44, 31, 46, 41, 42,  2, 16, 23, 32],\n",
       "       [85, 23, 72, 73, 50, 70, 73, 73, 70,  9],\n",
       "       [11, 21, 74, 55, 23, 66, 19, 43, 57,  1],\n",
       "       [20, 73, 85, 33, 83, 66, 10, 46, 28, 93],\n",
       "       [75,  4, 18, 38, 58, 21, 36, 85, 98, 18],\n",
       "       [31, 19, 44, 22, 14, 93,  9, 43, 76, 52],\n",
       "       [94, 46, 17, 43, 46, 27, 34, 82, 13, 78],\n",
       "       [84, 79, 62,  1, 76, 66, 39, 93, 45, 73],\n",
       "       [63, 72, 14, 36, 89, 38, 48, 32, 80, 86],\n",
       "       [35, 13, 39, 88, 21, 12, 19, 21, 47, 75],\n",
       "       [27, 33, 79, 30, 70, 25, 11, 99, 75, 88],\n",
       "       [50, 98, 56, 73, 66, 78, 44, 46,  7, 65],\n",
       "       [61, 68, 22, 16,  6, 15, 38, 12, 71, 35],\n",
       "       [68,  6, 73, 34, 30, 26, 54, 88, 99, 97],\n",
       "       [90, 32, 68, 34, 23,  1, 90, 30, 91, 37],\n",
       "       [37, 79,  2, 77, 72, 96, 41, 96, 60, 53],\n",
       "       [34, 44, 44, 97, 11, 71, 59, 77, 26, 82],\n",
       "       [36,  4, 61, 28, 41, 34,  0, 34,  7, 39],\n",
       "       [20, 68, 37,  5, 92, 26, 27, 97, 71,  5],\n",
       "       [76, 48, 27,  7, 27, 14, 38, 92, 58, 60],\n",
       "       [40, 67, 20, 78, 99, 12,  3, 81,  8,  1],\n",
       "       [67, 67, 61,  9, 26, 18, 55, 95, 55, 23],\n",
       "       [ 9, 57,  0, 28, 33, 78, 81, 92, 88, 38],\n",
       "       [ 8,  5, 67, 34, 44, 73, 95, 15, 16, 76],\n",
       "       [65, 23, 50,  2, 45, 94, 96, 11, 36, 26],\n",
       "       [75, 66, 46,  5, 49, 51, 10, 31, 62, 97],\n",
       "       [20,  4, 87, 28, 71, 96, 29,  6, 27, 40],\n",
       "       [83, 68, 25,  0, 66, 77, 71, 20, 57,  9],\n",
       "       [69, 25, 43, 35, 14, 50, 51, 67,  2, 31],\n",
       "       [15, 22, 30, 43, 67, 91, 34, 63, 29, 32],\n",
       "       [68, 30, 91, 90, 94, 38, 30, 34, 62, 34],\n",
       "       [88, 63, 10, 40, 36,  0, 24, 10, 73, 53],\n",
       "       [77, 22, 69, 41, 67, 29, 58, 95, 80, 37],\n",
       "       [67, 87, 10, 61, 97, 10, 41, 71, 14, 42],\n",
       "       [36, 95,  2, 66,  3, 11, 82, 46, 89, 16],\n",
       "       [71, 79, 79, 39, 68, 86, 32, 92, 66, 60],\n",
       "       [11, 48, 59, 78, 33, 10, 15, 24, 36, 10],\n",
       "       [21, 44, 70, 38, 75,  0, 16, 51, 72, 57],\n",
       "       [93, 89,  1, 42, 97, 72, 59, 40, 61, 38],\n",
       "       [70, 61,  3, 51, 11, 40, 20, 51,  6, 48],\n",
       "       [80, 37, 86, 85, 85, 41,  1, 23, 14, 70],\n",
       "       [62, 52, 71, 11, 72, 84, 34, 46, 76, 93],\n",
       "       [78, 89, 99, 65, 70, 19, 30, 13, 14, 35],\n",
       "       [46, 10, 68, 54, 79,  3,  4, 41, 58,  7],\n",
       "       [53, 41, 27, 43, 84, 43, 74, 91, 32, 40],\n",
       "       [ 2, 25, 45, 62,  8, 80, 23, 33, 66, 74],\n",
       "       [10, 56, 33, 52, 46, 92, 60, 62, 69, 41],\n",
       "       [76, 31, 99, 23, 61, 11, 49, 33, 74,  8],\n",
       "       [38, 23, 26, 73, 22, 20, 35, 21,  1, 43],\n",
       "       [86, 71,  5, 68,  5, 79, 84, 65, 75, 22],\n",
       "       [95,  0, 54, 85, 97, 79, 64, 60, 62, 71],\n",
       "       [40, 90, 20,  9, 55, 53, 39, 51, 51, 25],\n",
       "       [58,  3,  7, 24, 50, 45, 99, 76, 93, 21],\n",
       "       [50, 31, 57, 69, 43, 23, 58, 52, 13, 14],\n",
       "       [36, 40, 53, 80, 81, 21, 36, 21, 73, 42],\n",
       "       [54, 75, 80, 78, 88, 27, 41, 77, 44, 84],\n",
       "       [92, 60, 32, 16, 72, 92, 53, 69, 15, 95],\n",
       "       [84, 59, 33, 93, 47, 93, 59, 51, 71, 11],\n",
       "       [15, 17, 82, 40, 79, 33, 90, 60, 53, 89],\n",
       "       [58, 84, 82, 12,  2, 83,  3, 70, 65, 73],\n",
       "       [ 6, 47, 49, 58, 46, 95, 39, 40, 15, 27],\n",
       "       [50, 75, 85, 27, 77, 44,  5, 25, 44, 95],\n",
       "       [42, 89, 77, 45, 60, 20, 56, 72, 12, 41],\n",
       "       [86, 27, 21, 50, 41, 93,  1, 82,  5,  2],\n",
       "       [81,  5, 24, 34, 61, 61, 52, 92,  0,  4],\n",
       "       [53, 74, 73, 46,  6, 59, 68, 75, 52, 46],\n",
       "       [77, 12, 20,  4, 61, 27,  4, 65, 98, 42],\n",
       "       [72, 62, 17, 14, 38, 94, 22, 32, 81, 17],\n",
       "       [19, 75, 21, 53, 32, 11, 75, 13, 77, 92],\n",
       "       [51, 28, 97,  8, 95, 99, 16,  9, 54, 40],\n",
       "       [43, 65, 59, 23, 19, 90,  3, 37, 85, 56],\n",
       "       [70, 26, 99, 18, 90, 62, 13, 29, 43, 12],\n",
       "       [75, 32, 41, 27, 71, 45, 85, 21, 69, 97],\n",
       "       [59, 73, 95, 84, 13, 76, 72,  8,  7, 23],\n",
       "       [ 2, 56, 78, 54, 83, 78, 72, 90, 26, 68],\n",
       "       [37, 75, 31, 81, 19,  1, 38, 61, 47, 85],\n",
       "       [12, 85, 98, 44,  4, 97, 28, 47, 87, 78],\n",
       "       [69, 52, 69, 82, 25, 22, 68, 83, 57, 69],\n",
       "       [78, 42, 13, 80, 86, 12, 81, 92,  9, 45],\n",
       "       [58, 12, 19, 81, 53, 61, 48, 55, 41, 60],\n",
       "       [97, 12, 42, 54, 12, 75, 26, 57, 63, 43],\n",
       "       [ 1, 76, 12, 71, 23, 17, 23, 34,  0, 37],\n",
       "       [38, 99, 44, 43, 38,  3, 18,  0, 53, 81],\n",
       "       [38, 86, 34, 18, 27, 48, 68, 93, 14, 37],\n",
       "       [67, 23, 76,  7, 42, 83,  8, 51, 47, 90]])"
      ]
     },
     "execution_count": 68,
     "metadata": {},
     "output_type": "execute_result"
    }
   ],
   "source": [
    "arr2"
   ]
  },
  {
   "cell_type": "code",
   "execution_count": 69,
   "id": "425d85e3-f8f4-4490-9cee-c521a4faecbc",
   "metadata": {},
   "outputs": [
    {
     "data": {
      "text/plain": [
       "92"
      ]
     },
     "execution_count": 69,
     "metadata": {},
     "output_type": "execute_result"
    }
   ],
   "source": [
    "arr2[-7,7]"
   ]
  },
  {
   "cell_type": "code",
   "execution_count": 70,
   "id": "03b3c4ac-c1eb-44a9-b13d-67935b212d71",
   "metadata": {},
   "outputs": [
    {
     "data": {
      "text/plain": [
       "80"
      ]
     },
     "execution_count": 70,
     "metadata": {},
     "output_type": "execute_result"
    }
   ],
   "source": [
    "arr2[-7,-7]"
   ]
  },
  {
   "cell_type": "code",
   "execution_count": 71,
   "id": "1277ce50-5bca-458a-b963-6dff886cbdf6",
   "metadata": {},
   "outputs": [
    {
     "data": {
      "text/plain": [
       "array([[49,  7, 72, 10, 63, 33, 75, 21, 69, 85],\n",
       "       [97, 29, 81, 33, 11, 57, 53,  4, 21, 28],\n",
       "       [89, 19,  8, 62, 37, 97,  0, 12, 35, 94],\n",
       "       [86, 65, 80, 27, 56, 17, 30, 43, 74, 57],\n",
       "       [ 6, 32, 51, 47, 59, 17,  8, 43, 14, 57],\n",
       "       [11, 61, 20, 56, 93,  9,  6, 29, 26, 87],\n",
       "       [18, 64, 47, 27, 48, 51, 95,  7, 99, 81],\n",
       "       [23, 51, 75, 53, 85, 12, 56, 68, 60, 12],\n",
       "       [59, 41, 62, 30, 53, 17, 97, 92, 42, 94],\n",
       "       [75, 91, 11, 80, 20, 67, 48, 68, 62, 16],\n",
       "       [93, 19, 75, 55, 87, 94, 89, 35, 20, 83],\n",
       "       [27, 52, 84, 29,  0,  8, 85, 61, 78, 96],\n",
       "       [ 6, 69, 28, 60, 32, 93, 22, 44, 41, 66],\n",
       "       [87, 23, 53, 27, 22,  8,  8, 80,  4, 52],\n",
       "       [57,  8, 99,  7, 70, 40, 43, 65, 43, 94],\n",
       "       [14, 44, 31, 46, 41, 42,  2, 16, 23, 32],\n",
       "       [85, 23, 72, 73, 50, 70, 73, 73, 70,  9],\n",
       "       [11, 21, 74, 55, 23, 66, 19, 43, 57,  1],\n",
       "       [20, 73, 85, 33, 83, 66, 10, 46, 28, 93],\n",
       "       [75,  4, 18, 38, 58, 21, 36, 85, 98, 18],\n",
       "       [31, 19, 44, 22, 14, 93,  9, 43, 76, 52],\n",
       "       [94, 46, 17, 43, 46, 27, 34, 82, 13, 78],\n",
       "       [84, 79, 62,  1, 76, 66, 39, 93, 45, 73],\n",
       "       [63, 72, 14, 36, 89, 38, 48, 32, 80, 86],\n",
       "       [35, 13, 39, 88, 21, 12, 19, 21, 47, 75],\n",
       "       [27, 33, 79, 30, 70, 25, 11, 99, 75, 88],\n",
       "       [50, 98, 56, 73, 66, 78, 44, 46,  7, 65],\n",
       "       [61, 68, 22, 16,  6, 15, 38, 12, 71, 35],\n",
       "       [68,  6, 73, 34, 30, 26, 54, 88, 99, 97],\n",
       "       [90, 32, 68, 34, 23,  1, 90, 30, 91, 37],\n",
       "       [37, 79,  2, 77, 72, 96, 41, 96, 60, 53],\n",
       "       [34, 44, 44, 97, 11, 71, 59, 77, 26, 82],\n",
       "       [36,  4, 61, 28, 41, 34,  0, 34,  7, 39],\n",
       "       [20, 68, 37,  5, 92, 26, 27, 97, 71,  5],\n",
       "       [76, 48, 27,  7, 27, 14, 38, 92, 58, 60],\n",
       "       [40, 67, 20, 78, 99, 12,  3, 81,  8,  1],\n",
       "       [67, 67, 61,  9, 26, 18, 55, 95, 55, 23],\n",
       "       [ 9, 57,  0, 28, 33, 78, 81, 92, 88, 38],\n",
       "       [ 8,  5, 67, 34, 44, 73, 95, 15, 16, 76],\n",
       "       [65, 23, 50,  2, 45, 94, 96, 11, 36, 26],\n",
       "       [75, 66, 46,  5, 49, 51, 10, 31, 62, 97],\n",
       "       [20,  4, 87, 28, 71, 96, 29,  6, 27, 40],\n",
       "       [83, 68, 25,  0, 66, 77, 71, 20, 57,  9],\n",
       "       [69, 25, 43, 35, 14, 50, 51, 67,  2, 31],\n",
       "       [15, 22, 30, 43, 67, 91, 34, 63, 29, 32],\n",
       "       [68, 30, 91, 90, 94, 38, 30, 34, 62, 34],\n",
       "       [88, 63, 10, 40, 36,  0, 24, 10, 73, 53],\n",
       "       [77, 22, 69, 41, 67, 29, 58, 95, 80, 37],\n",
       "       [67, 87, 10, 61, 97, 10, 41, 71, 14, 42],\n",
       "       [36, 95,  2, 66,  3, 11, 82, 46, 89, 16],\n",
       "       [71, 79, 79, 39, 68, 86, 32, 92, 66, 60],\n",
       "       [11, 48, 59, 78, 33, 10, 15, 24, 36, 10],\n",
       "       [21, 44, 70, 38, 75,  0, 16, 51, 72, 57],\n",
       "       [93, 89,  1, 42, 97, 72, 59, 40, 61, 38],\n",
       "       [70, 61,  3, 51, 11, 40, 20, 51,  6, 48],\n",
       "       [80, 37, 86, 85, 85, 41,  1, 23, 14, 70],\n",
       "       [62, 52, 71, 11, 72, 84, 34, 46, 76, 93],\n",
       "       [78, 89, 99, 65, 70, 19, 30, 13, 14, 35],\n",
       "       [46, 10, 68, 54, 79,  3,  4, 41, 58,  7],\n",
       "       [53, 41, 27, 43, 84, 43, 74, 91, 32, 40],\n",
       "       [ 2, 25, 45, 62,  8, 80, 23, 33, 66, 74],\n",
       "       [10, 56, 33, 52, 46, 92, 60, 62, 69, 41],\n",
       "       [76, 31, 99, 23, 61, 11, 49, 33, 74,  8],\n",
       "       [38, 23, 26, 73, 22, 20, 35, 21,  1, 43],\n",
       "       [86, 71,  5, 68,  5, 79, 84, 65, 75, 22],\n",
       "       [95,  0, 54, 85, 97, 79, 64, 60, 62, 71],\n",
       "       [40, 90, 20,  9, 55, 53, 39, 51, 51, 25],\n",
       "       [58,  3,  7, 24, 50, 45, 99, 76, 93, 21],\n",
       "       [50, 31, 57, 69, 43, 23, 58, 52, 13, 14],\n",
       "       [36, 40, 53, 80, 81, 21, 36, 21, 73, 42],\n",
       "       [54, 75, 80, 78, 88, 27, 41, 77, 44, 84],\n",
       "       [92, 60, 32, 16, 72, 92, 53, 69, 15, 95],\n",
       "       [84, 59, 33, 93, 47, 93, 59, 51, 71, 11],\n",
       "       [15, 17, 82, 40, 79, 33, 90, 60, 53, 89],\n",
       "       [58, 84, 82, 12,  2, 83,  3, 70, 65, 73],\n",
       "       [ 6, 47, 49, 58, 46, 95, 39, 40, 15, 27],\n",
       "       [50, 75, 85, 27, 77, 44,  5, 25, 44, 95],\n",
       "       [42, 89, 77, 45, 60, 20, 56, 72, 12, 41],\n",
       "       [86, 27, 21, 50, 41, 93,  1, 82,  5,  2],\n",
       "       [81,  5, 24, 34, 61, 61, 52, 92,  0,  4],\n",
       "       [53, 74, 73, 46,  6, 59, 68, 75, 52, 46],\n",
       "       [77, 12, 20,  4, 61, 27,  4, 65, 98, 42],\n",
       "       [72, 62, 17, 14, 38, 94, 22, 32, 81, 17],\n",
       "       [19, 75, 21, 53, 32, 11, 75, 13, 77, 92],\n",
       "       [51, 28, 97,  8, 95, 99, 16,  9, 54, 40],\n",
       "       [43, 65, 59, 23, 19, 90,  3, 37, 85, 56],\n",
       "       [70, 26, 99, 18, 90, 62, 13, 29, 43, 12],\n",
       "       [75, 32, 41, 27, 71, 45, 85, 21, 69, 97],\n",
       "       [59, 73, 95, 84, 13, 76, 72,  8,  7, 23],\n",
       "       [ 2, 56, 78, 54, 83, 78, 72, 90, 26, 68],\n",
       "       [37, 75, 31, 81, 19,  1, 38, 61, 47, 85],\n",
       "       [12, 85, 98, 44,  4, 97, 28, 47, 87, 78],\n",
       "       [69, 52, 69, 82, 25, 22, 68, 83, 57, 69],\n",
       "       [78, 42, 13, 80, 86, 12, 81, 92,  9, 45],\n",
       "       [58, 12, 19, 81, 53, 61, 48, 55, 41, 60],\n",
       "       [97, 12, 42, 54, 12, 75, 26, 57, 63, 43],\n",
       "       [ 1, 76, 12, 71, 23, 17, 23, 34,  0, 37],\n",
       "       [38, 99, 44, 43, 38,  3, 18,  0, 53, 81],\n",
       "       [38, 86, 34, 18, 27, 48, 68, 93, 14, 37],\n",
       "       [67, 23, 76,  7, 42, 83,  8, 51, 47, 90]])"
      ]
     },
     "execution_count": 71,
     "metadata": {},
     "output_type": "execute_result"
    }
   ],
   "source": [
    "arr2"
   ]
  },
  {
   "cell_type": "code",
   "execution_count": 72,
   "id": "a221c06e-42af-4f46-958e-4bb225f532da",
   "metadata": {},
   "outputs": [
    {
     "data": {
      "text/plain": [
       "array([[67, 23, 76,  7, 42, 83,  8, 51, 47, 90],\n",
       "       [38, 86, 34, 18, 27, 48, 68, 93, 14, 37],\n",
       "       [38, 99, 44, 43, 38,  3, 18,  0, 53, 81],\n",
       "       [ 1, 76, 12, 71, 23, 17, 23, 34,  0, 37],\n",
       "       [97, 12, 42, 54, 12, 75, 26, 57, 63, 43],\n",
       "       [58, 12, 19, 81, 53, 61, 48, 55, 41, 60],\n",
       "       [78, 42, 13, 80, 86, 12, 81, 92,  9, 45],\n",
       "       [69, 52, 69, 82, 25, 22, 68, 83, 57, 69],\n",
       "       [12, 85, 98, 44,  4, 97, 28, 47, 87, 78],\n",
       "       [37, 75, 31, 81, 19,  1, 38, 61, 47, 85],\n",
       "       [ 2, 56, 78, 54, 83, 78, 72, 90, 26, 68],\n",
       "       [59, 73, 95, 84, 13, 76, 72,  8,  7, 23],\n",
       "       [75, 32, 41, 27, 71, 45, 85, 21, 69, 97],\n",
       "       [70, 26, 99, 18, 90, 62, 13, 29, 43, 12],\n",
       "       [43, 65, 59, 23, 19, 90,  3, 37, 85, 56],\n",
       "       [51, 28, 97,  8, 95, 99, 16,  9, 54, 40],\n",
       "       [19, 75, 21, 53, 32, 11, 75, 13, 77, 92],\n",
       "       [72, 62, 17, 14, 38, 94, 22, 32, 81, 17],\n",
       "       [77, 12, 20,  4, 61, 27,  4, 65, 98, 42],\n",
       "       [53, 74, 73, 46,  6, 59, 68, 75, 52, 46],\n",
       "       [81,  5, 24, 34, 61, 61, 52, 92,  0,  4],\n",
       "       [86, 27, 21, 50, 41, 93,  1, 82,  5,  2],\n",
       "       [42, 89, 77, 45, 60, 20, 56, 72, 12, 41],\n",
       "       [50, 75, 85, 27, 77, 44,  5, 25, 44, 95],\n",
       "       [ 6, 47, 49, 58, 46, 95, 39, 40, 15, 27],\n",
       "       [58, 84, 82, 12,  2, 83,  3, 70, 65, 73],\n",
       "       [15, 17, 82, 40, 79, 33, 90, 60, 53, 89],\n",
       "       [84, 59, 33, 93, 47, 93, 59, 51, 71, 11],\n",
       "       [92, 60, 32, 16, 72, 92, 53, 69, 15, 95],\n",
       "       [54, 75, 80, 78, 88, 27, 41, 77, 44, 84],\n",
       "       [36, 40, 53, 80, 81, 21, 36, 21, 73, 42],\n",
       "       [50, 31, 57, 69, 43, 23, 58, 52, 13, 14],\n",
       "       [58,  3,  7, 24, 50, 45, 99, 76, 93, 21],\n",
       "       [40, 90, 20,  9, 55, 53, 39, 51, 51, 25],\n",
       "       [95,  0, 54, 85, 97, 79, 64, 60, 62, 71],\n",
       "       [86, 71,  5, 68,  5, 79, 84, 65, 75, 22],\n",
       "       [38, 23, 26, 73, 22, 20, 35, 21,  1, 43],\n",
       "       [76, 31, 99, 23, 61, 11, 49, 33, 74,  8],\n",
       "       [10, 56, 33, 52, 46, 92, 60, 62, 69, 41],\n",
       "       [ 2, 25, 45, 62,  8, 80, 23, 33, 66, 74],\n",
       "       [53, 41, 27, 43, 84, 43, 74, 91, 32, 40],\n",
       "       [46, 10, 68, 54, 79,  3,  4, 41, 58,  7],\n",
       "       [78, 89, 99, 65, 70, 19, 30, 13, 14, 35],\n",
       "       [62, 52, 71, 11, 72, 84, 34, 46, 76, 93],\n",
       "       [80, 37, 86, 85, 85, 41,  1, 23, 14, 70],\n",
       "       [70, 61,  3, 51, 11, 40, 20, 51,  6, 48],\n",
       "       [93, 89,  1, 42, 97, 72, 59, 40, 61, 38],\n",
       "       [21, 44, 70, 38, 75,  0, 16, 51, 72, 57],\n",
       "       [11, 48, 59, 78, 33, 10, 15, 24, 36, 10],\n",
       "       [71, 79, 79, 39, 68, 86, 32, 92, 66, 60],\n",
       "       [36, 95,  2, 66,  3, 11, 82, 46, 89, 16],\n",
       "       [67, 87, 10, 61, 97, 10, 41, 71, 14, 42],\n",
       "       [77, 22, 69, 41, 67, 29, 58, 95, 80, 37],\n",
       "       [88, 63, 10, 40, 36,  0, 24, 10, 73, 53],\n",
       "       [68, 30, 91, 90, 94, 38, 30, 34, 62, 34],\n",
       "       [15, 22, 30, 43, 67, 91, 34, 63, 29, 32],\n",
       "       [69, 25, 43, 35, 14, 50, 51, 67,  2, 31],\n",
       "       [83, 68, 25,  0, 66, 77, 71, 20, 57,  9],\n",
       "       [20,  4, 87, 28, 71, 96, 29,  6, 27, 40],\n",
       "       [75, 66, 46,  5, 49, 51, 10, 31, 62, 97],\n",
       "       [65, 23, 50,  2, 45, 94, 96, 11, 36, 26],\n",
       "       [ 8,  5, 67, 34, 44, 73, 95, 15, 16, 76],\n",
       "       [ 9, 57,  0, 28, 33, 78, 81, 92, 88, 38],\n",
       "       [67, 67, 61,  9, 26, 18, 55, 95, 55, 23],\n",
       "       [40, 67, 20, 78, 99, 12,  3, 81,  8,  1],\n",
       "       [76, 48, 27,  7, 27, 14, 38, 92, 58, 60],\n",
       "       [20, 68, 37,  5, 92, 26, 27, 97, 71,  5],\n",
       "       [36,  4, 61, 28, 41, 34,  0, 34,  7, 39],\n",
       "       [34, 44, 44, 97, 11, 71, 59, 77, 26, 82],\n",
       "       [37, 79,  2, 77, 72, 96, 41, 96, 60, 53],\n",
       "       [90, 32, 68, 34, 23,  1, 90, 30, 91, 37],\n",
       "       [68,  6, 73, 34, 30, 26, 54, 88, 99, 97],\n",
       "       [61, 68, 22, 16,  6, 15, 38, 12, 71, 35],\n",
       "       [50, 98, 56, 73, 66, 78, 44, 46,  7, 65],\n",
       "       [27, 33, 79, 30, 70, 25, 11, 99, 75, 88],\n",
       "       [35, 13, 39, 88, 21, 12, 19, 21, 47, 75],\n",
       "       [63, 72, 14, 36, 89, 38, 48, 32, 80, 86],\n",
       "       [84, 79, 62,  1, 76, 66, 39, 93, 45, 73],\n",
       "       [94, 46, 17, 43, 46, 27, 34, 82, 13, 78],\n",
       "       [31, 19, 44, 22, 14, 93,  9, 43, 76, 52],\n",
       "       [75,  4, 18, 38, 58, 21, 36, 85, 98, 18],\n",
       "       [20, 73, 85, 33, 83, 66, 10, 46, 28, 93],\n",
       "       [11, 21, 74, 55, 23, 66, 19, 43, 57,  1],\n",
       "       [85, 23, 72, 73, 50, 70, 73, 73, 70,  9],\n",
       "       [14, 44, 31, 46, 41, 42,  2, 16, 23, 32],\n",
       "       [57,  8, 99,  7, 70, 40, 43, 65, 43, 94],\n",
       "       [87, 23, 53, 27, 22,  8,  8, 80,  4, 52],\n",
       "       [ 6, 69, 28, 60, 32, 93, 22, 44, 41, 66],\n",
       "       [27, 52, 84, 29,  0,  8, 85, 61, 78, 96],\n",
       "       [93, 19, 75, 55, 87, 94, 89, 35, 20, 83],\n",
       "       [75, 91, 11, 80, 20, 67, 48, 68, 62, 16],\n",
       "       [59, 41, 62, 30, 53, 17, 97, 92, 42, 94],\n",
       "       [23, 51, 75, 53, 85, 12, 56, 68, 60, 12],\n",
       "       [18, 64, 47, 27, 48, 51, 95,  7, 99, 81],\n",
       "       [11, 61, 20, 56, 93,  9,  6, 29, 26, 87],\n",
       "       [ 6, 32, 51, 47, 59, 17,  8, 43, 14, 57],\n",
       "       [86, 65, 80, 27, 56, 17, 30, 43, 74, 57],\n",
       "       [89, 19,  8, 62, 37, 97,  0, 12, 35, 94],\n",
       "       [97, 29, 81, 33, 11, 57, 53,  4, 21, 28],\n",
       "       [49,  7, 72, 10, 63, 33, 75, 21, 69, 85]])"
      ]
     },
     "execution_count": 72,
     "metadata": {},
     "output_type": "execute_result"
    }
   ],
   "source": [
    "arr2[::-1]"
   ]
  },
  {
   "cell_type": "code",
   "execution_count": 73,
   "id": "5f615d01-145e-4914-ba7f-7641e81e086b",
   "metadata": {},
   "outputs": [
    {
     "data": {
      "text/plain": [
       "array([[49,  7, 72, 10, 63, 33, 75, 21, 69, 85],\n",
       "       [97, 29, 81, 33, 11, 57, 53,  4, 21, 28],\n",
       "       [89, 19,  8, 62, 37, 97,  0, 12, 35, 94],\n",
       "       [86, 65, 80, 27, 56, 17, 30, 43, 74, 57],\n",
       "       [ 6, 32, 51, 47, 59, 17,  8, 43, 14, 57],\n",
       "       [11, 61, 20, 56, 93,  9,  6, 29, 26, 87],\n",
       "       [18, 64, 47, 27, 48, 51, 95,  7, 99, 81],\n",
       "       [23, 51, 75, 53, 85, 12, 56, 68, 60, 12],\n",
       "       [59, 41, 62, 30, 53, 17, 97, 92, 42, 94],\n",
       "       [75, 91, 11, 80, 20, 67, 48, 68, 62, 16],\n",
       "       [93, 19, 75, 55, 87, 94, 89, 35, 20, 83],\n",
       "       [27, 52, 84, 29,  0,  8, 85, 61, 78, 96],\n",
       "       [ 6, 69, 28, 60, 32, 93, 22, 44, 41, 66],\n",
       "       [87, 23, 53, 27, 22,  8,  8, 80,  4, 52],\n",
       "       [57,  8, 99,  7, 70, 40, 43, 65, 43, 94],\n",
       "       [14, 44, 31, 46, 41, 42,  2, 16, 23, 32],\n",
       "       [85, 23, 72, 73, 50, 70, 73, 73, 70,  9],\n",
       "       [11, 21, 74, 55, 23, 66, 19, 43, 57,  1],\n",
       "       [20, 73, 85, 33, 83, 66, 10, 46, 28, 93],\n",
       "       [75,  4, 18, 38, 58, 21, 36, 85, 98, 18],\n",
       "       [31, 19, 44, 22, 14, 93,  9, 43, 76, 52],\n",
       "       [94, 46, 17, 43, 46, 27, 34, 82, 13, 78],\n",
       "       [84, 79, 62,  1, 76, 66, 39, 93, 45, 73],\n",
       "       [63, 72, 14, 36, 89, 38, 48, 32, 80, 86],\n",
       "       [35, 13, 39, 88, 21, 12, 19, 21, 47, 75],\n",
       "       [27, 33, 79, 30, 70, 25, 11, 99, 75, 88],\n",
       "       [50, 98, 56, 73, 66, 78, 44, 46,  7, 65],\n",
       "       [61, 68, 22, 16,  6, 15, 38, 12, 71, 35],\n",
       "       [68,  6, 73, 34, 30, 26, 54, 88, 99, 97],\n",
       "       [90, 32, 68, 34, 23,  1, 90, 30, 91, 37],\n",
       "       [37, 79,  2, 77, 72, 96, 41, 96, 60, 53],\n",
       "       [34, 44, 44, 97, 11, 71, 59, 77, 26, 82],\n",
       "       [36,  4, 61, 28, 41, 34,  0, 34,  7, 39],\n",
       "       [20, 68, 37,  5, 92, 26, 27, 97, 71,  5],\n",
       "       [76, 48, 27,  7, 27, 14, 38, 92, 58, 60],\n",
       "       [40, 67, 20, 78, 99, 12,  3, 81,  8,  1],\n",
       "       [67, 67, 61,  9, 26, 18, 55, 95, 55, 23],\n",
       "       [ 9, 57,  0, 28, 33, 78, 81, 92, 88, 38],\n",
       "       [ 8,  5, 67, 34, 44, 73, 95, 15, 16, 76],\n",
       "       [65, 23, 50,  2, 45, 94, 96, 11, 36, 26],\n",
       "       [75, 66, 46,  5, 49, 51, 10, 31, 62, 97],\n",
       "       [20,  4, 87, 28, 71, 96, 29,  6, 27, 40],\n",
       "       [83, 68, 25,  0, 66, 77, 71, 20, 57,  9],\n",
       "       [69, 25, 43, 35, 14, 50, 51, 67,  2, 31],\n",
       "       [15, 22, 30, 43, 67, 91, 34, 63, 29, 32],\n",
       "       [68, 30, 91, 90, 94, 38, 30, 34, 62, 34],\n",
       "       [88, 63, 10, 40, 36,  0, 24, 10, 73, 53],\n",
       "       [77, 22, 69, 41, 67, 29, 58, 95, 80, 37],\n",
       "       [67, 87, 10, 61, 97, 10, 41, 71, 14, 42],\n",
       "       [36, 95,  2, 66,  3, 11, 82, 46, 89, 16],\n",
       "       [71, 79, 79, 39, 68, 86, 32, 92, 66, 60],\n",
       "       [11, 48, 59, 78, 33, 10, 15, 24, 36, 10],\n",
       "       [21, 44, 70, 38, 75,  0, 16, 51, 72, 57],\n",
       "       [93, 89,  1, 42, 97, 72, 59, 40, 61, 38],\n",
       "       [70, 61,  3, 51, 11, 40, 20, 51,  6, 48],\n",
       "       [80, 37, 86, 85, 85, 41,  1, 23, 14, 70],\n",
       "       [62, 52, 71, 11, 72, 84, 34, 46, 76, 93],\n",
       "       [78, 89, 99, 65, 70, 19, 30, 13, 14, 35],\n",
       "       [46, 10, 68, 54, 79,  3,  4, 41, 58,  7],\n",
       "       [53, 41, 27, 43, 84, 43, 74, 91, 32, 40],\n",
       "       [ 2, 25, 45, 62,  8, 80, 23, 33, 66, 74],\n",
       "       [10, 56, 33, 52, 46, 92, 60, 62, 69, 41],\n",
       "       [76, 31, 99, 23, 61, 11, 49, 33, 74,  8],\n",
       "       [38, 23, 26, 73, 22, 20, 35, 21,  1, 43],\n",
       "       [86, 71,  5, 68,  5, 79, 84, 65, 75, 22],\n",
       "       [95,  0, 54, 85, 97, 79, 64, 60, 62, 71],\n",
       "       [40, 90, 20,  9, 55, 53, 39, 51, 51, 25],\n",
       "       [58,  3,  7, 24, 50, 45, 99, 76, 93, 21],\n",
       "       [50, 31, 57, 69, 43, 23, 58, 52, 13, 14],\n",
       "       [36, 40, 53, 80, 81, 21, 36, 21, 73, 42],\n",
       "       [54, 75, 80, 78, 88, 27, 41, 77, 44, 84],\n",
       "       [92, 60, 32, 16, 72, 92, 53, 69, 15, 95],\n",
       "       [84, 59, 33, 93, 47, 93, 59, 51, 71, 11],\n",
       "       [15, 17, 82, 40, 79, 33, 90, 60, 53, 89],\n",
       "       [58, 84, 82, 12,  2, 83,  3, 70, 65, 73],\n",
       "       [ 6, 47, 49, 58, 46, 95, 39, 40, 15, 27],\n",
       "       [50, 75, 85, 27, 77, 44,  5, 25, 44, 95],\n",
       "       [42, 89, 77, 45, 60, 20, 56, 72, 12, 41],\n",
       "       [86, 27, 21, 50, 41, 93,  1, 82,  5,  2],\n",
       "       [81,  5, 24, 34, 61, 61, 52, 92,  0,  4],\n",
       "       [53, 74, 73, 46,  6, 59, 68, 75, 52, 46],\n",
       "       [77, 12, 20,  4, 61, 27,  4, 65, 98, 42],\n",
       "       [72, 62, 17, 14, 38, 94, 22, 32, 81, 17],\n",
       "       [19, 75, 21, 53, 32, 11, 75, 13, 77, 92],\n",
       "       [51, 28, 97,  8, 95, 99, 16,  9, 54, 40],\n",
       "       [43, 65, 59, 23, 19, 90,  3, 37, 85, 56],\n",
       "       [70, 26, 99, 18, 90, 62, 13, 29, 43, 12],\n",
       "       [75, 32, 41, 27, 71, 45, 85, 21, 69, 97],\n",
       "       [59, 73, 95, 84, 13, 76, 72,  8,  7, 23],\n",
       "       [ 2, 56, 78, 54, 83, 78, 72, 90, 26, 68],\n",
       "       [37, 75, 31, 81, 19,  1, 38, 61, 47, 85],\n",
       "       [12, 85, 98, 44,  4, 97, 28, 47, 87, 78],\n",
       "       [69, 52, 69, 82, 25, 22, 68, 83, 57, 69],\n",
       "       [78, 42, 13, 80, 86, 12, 81, 92,  9, 45],\n",
       "       [58, 12, 19, 81, 53, 61, 48, 55, 41, 60],\n",
       "       [97, 12, 42, 54, 12, 75, 26, 57, 63, 43],\n",
       "       [ 1, 76, 12, 71, 23, 17, 23, 34,  0, 37],\n",
       "       [38, 99, 44, 43, 38,  3, 18,  0, 53, 81],\n",
       "       [38, 86, 34, 18, 27, 48, 68, 93, 14, 37],\n",
       "       [67, 23, 76,  7, 42, 83,  8, 51, 47, 90]])"
      ]
     },
     "execution_count": 73,
     "metadata": {},
     "output_type": "execute_result"
    }
   ],
   "source": [
    "arr2"
   ]
  },
  {
   "cell_type": "code",
   "execution_count": 74,
   "id": "97e36e36-665e-4147-bf24-5319454333b6",
   "metadata": {},
   "outputs": [
    {
     "data": {
      "text/plain": [
       "array([[67, 23, 76,  7, 42, 83,  8, 51, 47, 90],\n",
       "       [38, 99, 44, 43, 38,  3, 18,  0, 53, 81],\n",
       "       [97, 12, 42, 54, 12, 75, 26, 57, 63, 43],\n",
       "       [78, 42, 13, 80, 86, 12, 81, 92,  9, 45],\n",
       "       [12, 85, 98, 44,  4, 97, 28, 47, 87, 78],\n",
       "       [ 2, 56, 78, 54, 83, 78, 72, 90, 26, 68],\n",
       "       [75, 32, 41, 27, 71, 45, 85, 21, 69, 97],\n",
       "       [43, 65, 59, 23, 19, 90,  3, 37, 85, 56],\n",
       "       [19, 75, 21, 53, 32, 11, 75, 13, 77, 92],\n",
       "       [77, 12, 20,  4, 61, 27,  4, 65, 98, 42],\n",
       "       [81,  5, 24, 34, 61, 61, 52, 92,  0,  4],\n",
       "       [42, 89, 77, 45, 60, 20, 56, 72, 12, 41],\n",
       "       [ 6, 47, 49, 58, 46, 95, 39, 40, 15, 27],\n",
       "       [15, 17, 82, 40, 79, 33, 90, 60, 53, 89],\n",
       "       [92, 60, 32, 16, 72, 92, 53, 69, 15, 95],\n",
       "       [36, 40, 53, 80, 81, 21, 36, 21, 73, 42],\n",
       "       [58,  3,  7, 24, 50, 45, 99, 76, 93, 21],\n",
       "       [95,  0, 54, 85, 97, 79, 64, 60, 62, 71],\n",
       "       [38, 23, 26, 73, 22, 20, 35, 21,  1, 43],\n",
       "       [10, 56, 33, 52, 46, 92, 60, 62, 69, 41],\n",
       "       [53, 41, 27, 43, 84, 43, 74, 91, 32, 40],\n",
       "       [78, 89, 99, 65, 70, 19, 30, 13, 14, 35],\n",
       "       [80, 37, 86, 85, 85, 41,  1, 23, 14, 70],\n",
       "       [93, 89,  1, 42, 97, 72, 59, 40, 61, 38],\n",
       "       [11, 48, 59, 78, 33, 10, 15, 24, 36, 10],\n",
       "       [36, 95,  2, 66,  3, 11, 82, 46, 89, 16],\n",
       "       [77, 22, 69, 41, 67, 29, 58, 95, 80, 37],\n",
       "       [68, 30, 91, 90, 94, 38, 30, 34, 62, 34],\n",
       "       [69, 25, 43, 35, 14, 50, 51, 67,  2, 31],\n",
       "       [20,  4, 87, 28, 71, 96, 29,  6, 27, 40],\n",
       "       [65, 23, 50,  2, 45, 94, 96, 11, 36, 26],\n",
       "       [ 9, 57,  0, 28, 33, 78, 81, 92, 88, 38],\n",
       "       [40, 67, 20, 78, 99, 12,  3, 81,  8,  1],\n",
       "       [20, 68, 37,  5, 92, 26, 27, 97, 71,  5],\n",
       "       [34, 44, 44, 97, 11, 71, 59, 77, 26, 82],\n",
       "       [90, 32, 68, 34, 23,  1, 90, 30, 91, 37],\n",
       "       [61, 68, 22, 16,  6, 15, 38, 12, 71, 35],\n",
       "       [27, 33, 79, 30, 70, 25, 11, 99, 75, 88],\n",
       "       [63, 72, 14, 36, 89, 38, 48, 32, 80, 86],\n",
       "       [94, 46, 17, 43, 46, 27, 34, 82, 13, 78],\n",
       "       [75,  4, 18, 38, 58, 21, 36, 85, 98, 18],\n",
       "       [11, 21, 74, 55, 23, 66, 19, 43, 57,  1],\n",
       "       [14, 44, 31, 46, 41, 42,  2, 16, 23, 32],\n",
       "       [87, 23, 53, 27, 22,  8,  8, 80,  4, 52],\n",
       "       [27, 52, 84, 29,  0,  8, 85, 61, 78, 96],\n",
       "       [75, 91, 11, 80, 20, 67, 48, 68, 62, 16],\n",
       "       [23, 51, 75, 53, 85, 12, 56, 68, 60, 12],\n",
       "       [11, 61, 20, 56, 93,  9,  6, 29, 26, 87],\n",
       "       [86, 65, 80, 27, 56, 17, 30, 43, 74, 57],\n",
       "       [97, 29, 81, 33, 11, 57, 53,  4, 21, 28]])"
      ]
     },
     "execution_count": 74,
     "metadata": {},
     "output_type": "execute_result"
    }
   ],
   "source": [
    "arr2[::-2]"
   ]
  },
  {
   "cell_type": "code",
   "execution_count": 75,
   "id": "fa97719a-5461-435b-af6d-e2804730cc4a",
   "metadata": {},
   "outputs": [
    {
     "data": {
      "text/plain": [
       "array([[49,  7, 72, 10, 63, 33, 75, 21, 69, 85],\n",
       "       [97, 29, 81, 33, 11, 57, 53,  4, 21, 28],\n",
       "       [89, 19,  8, 62, 37, 97,  0, 12, 35, 94],\n",
       "       [86, 65, 80, 27, 56, 17, 30, 43, 74, 57],\n",
       "       [ 6, 32, 51, 47, 59, 17,  8, 43, 14, 57],\n",
       "       [11, 61, 20, 56, 93,  9,  6, 29, 26, 87],\n",
       "       [18, 64, 47, 27, 48, 51, 95,  7, 99, 81],\n",
       "       [23, 51, 75, 53, 85, 12, 56, 68, 60, 12],\n",
       "       [59, 41, 62, 30, 53, 17, 97, 92, 42, 94],\n",
       "       [75, 91, 11, 80, 20, 67, 48, 68, 62, 16],\n",
       "       [93, 19, 75, 55, 87, 94, 89, 35, 20, 83],\n",
       "       [27, 52, 84, 29,  0,  8, 85, 61, 78, 96],\n",
       "       [ 6, 69, 28, 60, 32, 93, 22, 44, 41, 66],\n",
       "       [87, 23, 53, 27, 22,  8,  8, 80,  4, 52],\n",
       "       [57,  8, 99,  7, 70, 40, 43, 65, 43, 94],\n",
       "       [14, 44, 31, 46, 41, 42,  2, 16, 23, 32],\n",
       "       [85, 23, 72, 73, 50, 70, 73, 73, 70,  9],\n",
       "       [11, 21, 74, 55, 23, 66, 19, 43, 57,  1],\n",
       "       [20, 73, 85, 33, 83, 66, 10, 46, 28, 93],\n",
       "       [75,  4, 18, 38, 58, 21, 36, 85, 98, 18],\n",
       "       [31, 19, 44, 22, 14, 93,  9, 43, 76, 52],\n",
       "       [94, 46, 17, 43, 46, 27, 34, 82, 13, 78],\n",
       "       [84, 79, 62,  1, 76, 66, 39, 93, 45, 73],\n",
       "       [63, 72, 14, 36, 89, 38, 48, 32, 80, 86],\n",
       "       [35, 13, 39, 88, 21, 12, 19, 21, 47, 75],\n",
       "       [27, 33, 79, 30, 70, 25, 11, 99, 75, 88],\n",
       "       [50, 98, 56, 73, 66, 78, 44, 46,  7, 65],\n",
       "       [61, 68, 22, 16,  6, 15, 38, 12, 71, 35],\n",
       "       [68,  6, 73, 34, 30, 26, 54, 88, 99, 97],\n",
       "       [90, 32, 68, 34, 23,  1, 90, 30, 91, 37],\n",
       "       [37, 79,  2, 77, 72, 96, 41, 96, 60, 53],\n",
       "       [34, 44, 44, 97, 11, 71, 59, 77, 26, 82],\n",
       "       [36,  4, 61, 28, 41, 34,  0, 34,  7, 39],\n",
       "       [20, 68, 37,  5, 92, 26, 27, 97, 71,  5],\n",
       "       [76, 48, 27,  7, 27, 14, 38, 92, 58, 60],\n",
       "       [40, 67, 20, 78, 99, 12,  3, 81,  8,  1],\n",
       "       [67, 67, 61,  9, 26, 18, 55, 95, 55, 23],\n",
       "       [ 9, 57,  0, 28, 33, 78, 81, 92, 88, 38],\n",
       "       [ 8,  5, 67, 34, 44, 73, 95, 15, 16, 76],\n",
       "       [65, 23, 50,  2, 45, 94, 96, 11, 36, 26],\n",
       "       [75, 66, 46,  5, 49, 51, 10, 31, 62, 97],\n",
       "       [20,  4, 87, 28, 71, 96, 29,  6, 27, 40],\n",
       "       [83, 68, 25,  0, 66, 77, 71, 20, 57,  9],\n",
       "       [69, 25, 43, 35, 14, 50, 51, 67,  2, 31],\n",
       "       [15, 22, 30, 43, 67, 91, 34, 63, 29, 32],\n",
       "       [68, 30, 91, 90, 94, 38, 30, 34, 62, 34],\n",
       "       [88, 63, 10, 40, 36,  0, 24, 10, 73, 53],\n",
       "       [77, 22, 69, 41, 67, 29, 58, 95, 80, 37],\n",
       "       [67, 87, 10, 61, 97, 10, 41, 71, 14, 42],\n",
       "       [36, 95,  2, 66,  3, 11, 82, 46, 89, 16],\n",
       "       [71, 79, 79, 39, 68, 86, 32, 92, 66, 60],\n",
       "       [11, 48, 59, 78, 33, 10, 15, 24, 36, 10],\n",
       "       [21, 44, 70, 38, 75,  0, 16, 51, 72, 57],\n",
       "       [93, 89,  1, 42, 97, 72, 59, 40, 61, 38],\n",
       "       [70, 61,  3, 51, 11, 40, 20, 51,  6, 48],\n",
       "       [80, 37, 86, 85, 85, 41,  1, 23, 14, 70],\n",
       "       [62, 52, 71, 11, 72, 84, 34, 46, 76, 93],\n",
       "       [78, 89, 99, 65, 70, 19, 30, 13, 14, 35],\n",
       "       [46, 10, 68, 54, 79,  3,  4, 41, 58,  7],\n",
       "       [53, 41, 27, 43, 84, 43, 74, 91, 32, 40],\n",
       "       [ 2, 25, 45, 62,  8, 80, 23, 33, 66, 74],\n",
       "       [10, 56, 33, 52, 46, 92, 60, 62, 69, 41],\n",
       "       [76, 31, 99, 23, 61, 11, 49, 33, 74,  8],\n",
       "       [38, 23, 26, 73, 22, 20, 35, 21,  1, 43],\n",
       "       [86, 71,  5, 68,  5, 79, 84, 65, 75, 22],\n",
       "       [95,  0, 54, 85, 97, 79, 64, 60, 62, 71],\n",
       "       [40, 90, 20,  9, 55, 53, 39, 51, 51, 25],\n",
       "       [58,  3,  7, 24, 50, 45, 99, 76, 93, 21],\n",
       "       [50, 31, 57, 69, 43, 23, 58, 52, 13, 14],\n",
       "       [36, 40, 53, 80, 81, 21, 36, 21, 73, 42],\n",
       "       [54, 75, 80, 78, 88, 27, 41, 77, 44, 84],\n",
       "       [92, 60, 32, 16, 72, 92, 53, 69, 15, 95],\n",
       "       [84, 59, 33, 93, 47, 93, 59, 51, 71, 11],\n",
       "       [15, 17, 82, 40, 79, 33, 90, 60, 53, 89],\n",
       "       [58, 84, 82, 12,  2, 83,  3, 70, 65, 73],\n",
       "       [ 6, 47, 49, 58, 46, 95, 39, 40, 15, 27],\n",
       "       [50, 75, 85, 27, 77, 44,  5, 25, 44, 95],\n",
       "       [42, 89, 77, 45, 60, 20, 56, 72, 12, 41],\n",
       "       [86, 27, 21, 50, 41, 93,  1, 82,  5,  2],\n",
       "       [81,  5, 24, 34, 61, 61, 52, 92,  0,  4],\n",
       "       [53, 74, 73, 46,  6, 59, 68, 75, 52, 46],\n",
       "       [77, 12, 20,  4, 61, 27,  4, 65, 98, 42],\n",
       "       [72, 62, 17, 14, 38, 94, 22, 32, 81, 17],\n",
       "       [19, 75, 21, 53, 32, 11, 75, 13, 77, 92],\n",
       "       [51, 28, 97,  8, 95, 99, 16,  9, 54, 40],\n",
       "       [43, 65, 59, 23, 19, 90,  3, 37, 85, 56],\n",
       "       [70, 26, 99, 18, 90, 62, 13, 29, 43, 12],\n",
       "       [75, 32, 41, 27, 71, 45, 85, 21, 69, 97],\n",
       "       [59, 73, 95, 84, 13, 76, 72,  8,  7, 23],\n",
       "       [ 2, 56, 78, 54, 83, 78, 72, 90, 26, 68],\n",
       "       [37, 75, 31, 81, 19,  1, 38, 61, 47, 85],\n",
       "       [12, 85, 98, 44,  4, 97, 28, 47, 87, 78],\n",
       "       [69, 52, 69, 82, 25, 22, 68, 83, 57, 69],\n",
       "       [78, 42, 13, 80, 86, 12, 81, 92,  9, 45],\n",
       "       [58, 12, 19, 81, 53, 61, 48, 55, 41, 60],\n",
       "       [97, 12, 42, 54, 12, 75, 26, 57, 63, 43],\n",
       "       [ 1, 76, 12, 71, 23, 17, 23, 34,  0, 37],\n",
       "       [38, 99, 44, 43, 38,  3, 18,  0, 53, 81],\n",
       "       [38, 86, 34, 18, 27, 48, 68, 93, 14, 37],\n",
       "       [67, 23, 76,  7, 42, 83,  8, 51, 47, 90]])"
      ]
     },
     "execution_count": 75,
     "metadata": {},
     "output_type": "execute_result"
    }
   ],
   "source": [
    "arr2"
   ]
  },
  {
   "cell_type": "code",
   "execution_count": 76,
   "id": "fce12d03-1fe5-464c-aab0-f012b0a6b7df",
   "metadata": {},
   "outputs": [
    {
     "data": {
      "text/plain": [
       "array([[49,  7, 72, 10, 63, 33, 75, 21, 69, 85],\n",
       "       [11, 61, 20, 56, 93,  9,  6, 29, 26, 87],\n",
       "       [93, 19, 75, 55, 87, 94, 89, 35, 20, 83],\n",
       "       [14, 44, 31, 46, 41, 42,  2, 16, 23, 32],\n",
       "       [31, 19, 44, 22, 14, 93,  9, 43, 76, 52],\n",
       "       [27, 33, 79, 30, 70, 25, 11, 99, 75, 88],\n",
       "       [37, 79,  2, 77, 72, 96, 41, 96, 60, 53],\n",
       "       [40, 67, 20, 78, 99, 12,  3, 81,  8,  1],\n",
       "       [75, 66, 46,  5, 49, 51, 10, 31, 62, 97],\n",
       "       [68, 30, 91, 90, 94, 38, 30, 34, 62, 34],\n",
       "       [71, 79, 79, 39, 68, 86, 32, 92, 66, 60],\n",
       "       [80, 37, 86, 85, 85, 41,  1, 23, 14, 70],\n",
       "       [ 2, 25, 45, 62,  8, 80, 23, 33, 66, 74],\n",
       "       [95,  0, 54, 85, 97, 79, 64, 60, 62, 71],\n",
       "       [54, 75, 80, 78, 88, 27, 41, 77, 44, 84],\n",
       "       [ 6, 47, 49, 58, 46, 95, 39, 40, 15, 27],\n",
       "       [53, 74, 73, 46,  6, 59, 68, 75, 52, 46],\n",
       "       [43, 65, 59, 23, 19, 90,  3, 37, 85, 56],\n",
       "       [37, 75, 31, 81, 19,  1, 38, 61, 47, 85],\n",
       "       [97, 12, 42, 54, 12, 75, 26, 57, 63, 43]])"
      ]
     },
     "execution_count": 76,
     "metadata": {},
     "output_type": "execute_result"
    }
   ],
   "source": [
    "arr2[::5]"
   ]
  },
  {
   "cell_type": "code",
   "execution_count": 77,
   "id": "6e6f1932-4c4c-4bb1-ba67-59799cc6a659",
   "metadata": {},
   "outputs": [
    {
     "data": {
      "text/plain": [
       "array([0, 1, 2, 3, 4, 5])"
      ]
     },
     "execution_count": 77,
     "metadata": {},
     "output_type": "execute_result"
    }
   ],
   "source": [
    "arr"
   ]
  },
  {
   "cell_type": "code",
   "execution_count": 78,
   "id": "4d89b480-da6e-462f-a9ef-d9e7387acdc2",
   "metadata": {},
   "outputs": [
    {
     "data": {
      "text/plain": [
       "5"
      ]
     },
     "execution_count": 78,
     "metadata": {},
     "output_type": "execute_result"
    }
   ],
   "source": [
    "arr.max()"
   ]
  },
  {
   "cell_type": "code",
   "execution_count": 79,
   "id": "074037c7-aade-4c92-aaba-c76e673432bd",
   "metadata": {},
   "outputs": [
    {
     "data": {
      "text/plain": [
       "5"
      ]
     },
     "execution_count": 79,
     "metadata": {},
     "output_type": "execute_result"
    }
   ],
   "source": [
    "arr.max()\n"
   ]
  },
  {
   "cell_type": "code",
   "execution_count": 80,
   "id": "1e0f9cf1-e2dc-4be4-8ea3-f43011cd72ae",
   "metadata": {},
   "outputs": [
    {
     "data": {
      "text/plain": [
       "0"
      ]
     },
     "execution_count": 80,
     "metadata": {},
     "output_type": "execute_result"
    }
   ],
   "source": [
    "arr.min()"
   ]
  },
  {
   "cell_type": "code",
   "execution_count": 81,
   "id": "ba30ba44-ac31-45d4-ae76-4bb5b58d1906",
   "metadata": {},
   "outputs": [
    {
     "data": {
      "text/plain": [
       "2.5"
      ]
     },
     "execution_count": 81,
     "metadata": {},
     "output_type": "execute_result"
    }
   ],
   "source": [
    "arr.mean()"
   ]
  },
  {
   "cell_type": "code",
   "execution_count": 84,
   "id": "12fcc91c-cad1-4570-8361-3223a6137fc0",
   "metadata": {},
   "outputs": [
    {
     "data": {
      "text/plain": [
       "3.0"
      ]
     },
     "execution_count": 84,
     "metadata": {},
     "output_type": "execute_result"
    }
   ],
   "source": [
    "from numpy import *\n",
    "a = array([1,2,3,4,9])\n",
    "median(a)\n",
    "\n"
   ]
  },
  {
   "cell_type": "code",
   "execution_count": 85,
   "id": "78c10678-5491-4305-b78c-16e6d64902a5",
   "metadata": {},
   "outputs": [
    {
     "data": {
      "text/plain": [
       "array([0, 1, 2, 3, 4, 5])"
      ]
     },
     "execution_count": 85,
     "metadata": {},
     "output_type": "execute_result"
    }
   ],
   "source": [
    "arr"
   ]
  },
  {
   "cell_type": "code",
   "execution_count": 86,
   "id": "503a3f16-80a9-44b3-b6de-f4fdeeba3842",
   "metadata": {},
   "outputs": [
    {
     "data": {
      "text/plain": [
       "array([[0, 1, 2],\n",
       "       [3, 4, 5]])"
      ]
     },
     "execution_count": 86,
     "metadata": {},
     "output_type": "execute_result"
    }
   ],
   "source": [
    "arr.reshape(2,3)"
   ]
  },
  {
   "cell_type": "code",
   "execution_count": 88,
   "id": "95e8874d-26fd-4310-bf30-fab27f21048c",
   "metadata": {},
   "outputs": [
    {
     "data": {
      "text/plain": [
       "array([[0],\n",
       "       [1],\n",
       "       [2],\n",
       "       [3],\n",
       "       [4],\n",
       "       [5]])"
      ]
     },
     "execution_count": 88,
     "metadata": {},
     "output_type": "execute_result"
    }
   ],
   "source": [
    "arr.reshape(6,1)"
   ]
  },
  {
   "cell_type": "code",
   "execution_count": 90,
   "id": "3bce11cf-d19a-4f0f-aceb-65c7c7205d17",
   "metadata": {},
   "outputs": [
    {
     "data": {
      "text/plain": [
       "array([[0, 1, 2, 3, 4, 5]])"
      ]
     },
     "execution_count": 90,
     "metadata": {},
     "output_type": "execute_result"
    }
   ],
   "source": [
    "arr.reshape(1,6)"
   ]
  },
  {
   "cell_type": "code",
   "execution_count": 91,
   "id": "5df1d6a5-208d-4528-a68a-e7c6c4a484e4",
   "metadata": {},
   "outputs": [
    {
     "data": {
      "text/plain": [
       "array([0, 1, 2, 3, 4, 5])"
      ]
     },
     "execution_count": 91,
     "metadata": {},
     "output_type": "execute_result"
    }
   ],
   "source": [
    "arr"
   ]
  },
  {
   "cell_type": "markdown",
   "id": "153cadec-167d-4886-9df4-adc4a059b74e",
   "metadata": {},
   "source": [
    "# Only three type of orders are there in reshape C- Type F- Type A- Type"
   ]
  },
  {
   "cell_type": "markdown",
   "id": "c5d01a06-d0f7-46bc-b87e-cca5a23bc8a4",
   "metadata": {},
   "source": [
    "C type indexing order"
   ]
  },
  {
   "cell_type": "code",
   "execution_count": 94,
   "id": "0d57c297-c770-4f0d-a4fc-b31b91720b90",
   "metadata": {},
   "outputs": [
    {
     "data": {
      "text/plain": [
       "array([[0, 1],\n",
       "       [2, 3],\n",
       "       [4, 5]])"
      ]
     },
     "execution_count": 94,
     "metadata": {},
     "output_type": "execute_result"
    }
   ],
   "source": [
    "arr.reshape(3,2,order='c')"
   ]
  },
  {
   "cell_type": "markdown",
   "id": "d17bc4cb-dae3-47bc-b6d7-f99a003b665a",
   "metadata": {},
   "source": [
    "F- fortran indexing ordr"
   ]
  },
  {
   "cell_type": "code",
   "execution_count": 96,
   "id": "3c40ad2d-88c1-4a30-9e10-1042bbc99bdf",
   "metadata": {},
   "outputs": [
    {
     "data": {
      "text/plain": [
       "array([[0, 3],\n",
       "       [1, 4],\n",
       "       [2, 5]])"
      ]
     },
     "execution_count": 96,
     "metadata": {},
     "output_type": "execute_result"
    }
   ],
   "source": [
    "arr.reshape(3,2,order='F')"
   ]
  },
  {
   "cell_type": "code",
   "execution_count": 97,
   "id": "b68a51cc-9dcc-411a-93ab-e4451233d0b7",
   "metadata": {},
   "outputs": [
    {
     "data": {
      "text/plain": [
       "array([[0, 2, 4],\n",
       "       [1, 3, 5]])"
      ]
     },
     "execution_count": 97,
     "metadata": {},
     "output_type": "execute_result"
    }
   ],
   "source": [
    "arr.reshape(2,3,order='F')"
   ]
  },
  {
   "cell_type": "code",
   "execution_count": 98,
   "id": "029d9f88-7b1e-427f-80e2-ce07f9e7e8f3",
   "metadata": {},
   "outputs": [
    {
     "data": {
      "text/plain": [
       "array([[0, 2, 4],\n",
       "       [1, 3, 5]])"
      ]
     },
     "execution_count": 98,
     "metadata": {},
     "output_type": "execute_result"
    }
   ],
   "source": [
    "array([[0,2,4],[1,3,5]])"
   ]
  },
  {
   "cell_type": "markdown",
   "id": "f97ff011-ad73-4c0e-96ce-06e892c104d7",
   "metadata": {},
   "source": [
    "A-Arbitary indexing order"
   ]
  },
  {
   "cell_type": "code",
   "execution_count": 99,
   "id": "c91ac192-b9fe-46ae-a797-a441edde1485",
   "metadata": {},
   "outputs": [
    {
     "data": {
      "text/plain": [
       "array([[0, 1],\n",
       "       [2, 3],\n",
       "       [4, 5]])"
      ]
     },
     "execution_count": 99,
     "metadata": {},
     "output_type": "execute_result"
    }
   ],
   "source": [
    "arr.reshape(3,2,order='A')"
   ]
  },
  {
   "cell_type": "code",
   "execution_count": 100,
   "id": "4bb76173-184f-4f28-b803-4d5249886150",
   "metadata": {},
   "outputs": [
    {
     "data": {
      "text/plain": [
       "array([[0, 1, 2],\n",
       "       [3, 4, 5]])"
      ]
     },
     "execution_count": 100,
     "metadata": {},
     "output_type": "execute_result"
    }
   ],
   "source": [
    "arr.reshape(2,3)"
   ]
  },
  {
   "cell_type": "code",
   "execution_count": 101,
   "id": "9fab0c3b-81e9-4b7f-b252-45ebefa399ba",
   "metadata": {},
   "outputs": [
    {
     "data": {
      "text/plain": [
       "array([[0, 1, 2, 3, 4, 5]])"
      ]
     },
     "execution_count": 101,
     "metadata": {},
     "output_type": "execute_result"
    }
   ],
   "source": [
    "arr.reshape(1,6)"
   ]
  },
  {
   "cell_type": "code",
   "execution_count": 102,
   "id": "fa57a360-34b6-4209-88db-c67f2dde885d",
   "metadata": {},
   "outputs": [
    {
     "data": {
      "text/plain": [
       "array([[0],\n",
       "       [1],\n",
       "       [2],\n",
       "       [3],\n",
       "       [4],\n",
       "       [5]])"
      ]
     },
     "execution_count": 102,
     "metadata": {},
     "output_type": "execute_result"
    }
   ],
   "source": [
    "arr.reshape(6,1)\n"
   ]
  },
  {
   "cell_type": "code",
   "execution_count": 103,
   "id": "2cc65d34-9432-4b06-9dcc-f1a5a0dc6a63",
   "metadata": {},
   "outputs": [
    {
     "data": {
      "text/plain": [
       "array([0, 1, 2, 3, 4, 5])"
      ]
     },
     "execution_count": 103,
     "metadata": {},
     "output_type": "execute_result"
    }
   ],
   "source": [
    "arr"
   ]
  },
  {
   "cell_type": "code",
   "execution_count": 104,
   "id": "31e3edc9-2bc3-4605-af36-beef2dbc3ea9",
   "metadata": {},
   "outputs": [
    {
     "data": {
      "text/plain": [
       "(6,)"
      ]
     },
     "execution_count": 104,
     "metadata": {},
     "output_type": "execute_result"
    }
   ],
   "source": [
    "arr.shape"
   ]
  },
  {
   "cell_type": "code",
   "execution_count": 105,
   "id": "a77f5e92-1665-4f15-bbbc-270c1e05b13a",
   "metadata": {},
   "outputs": [
    {
     "data": {
      "text/plain": [
       "array([0, 1, 2, 3, 4, 5])"
      ]
     },
     "execution_count": 105,
     "metadata": {},
     "output_type": "execute_result"
    }
   ],
   "source": [
    "arr"
   ]
  },
  {
   "cell_type": "code",
   "execution_count": 106,
   "id": "627ed120-23ea-4c68-8cdd-5f9274ec92d4",
   "metadata": {},
   "outputs": [
    {
     "data": {
      "text/plain": [
       "array([[0, 1],\n",
       "       [2, 3],\n",
       "       [4, 5]])"
      ]
     },
     "execution_count": 106,
     "metadata": {},
     "output_type": "execute_result"
    }
   ],
   "source": [
    "arr.reshape(3,2)"
   ]
  },
  {
   "cell_type": "markdown",
   "id": "0c5db0e8-3d7c-41db-8d31-69377ae69ec1",
   "metadata": {},
   "source": [
    "Indexing"
   ]
  },
  {
   "cell_type": "code",
   "execution_count": 109,
   "id": "d9b9dfff-6260-4ff0-94a6-69c3da7d812c",
   "metadata": {},
   "outputs": [
    {
     "data": {
      "text/plain": [
       "array([[ 0,  1,  2,  3,  4,  5,  6,  7,  8,  9],\n",
       "       [10, 11, 12, 13, 14, 15, 16, 17, 18, 19],\n",
       "       [20, 21, 22, 23, 24, 25, 26, 27, 28, 29],\n",
       "       [30, 31, 32, 33, 34, 35, 36, 37, 38, 39],\n",
       "       [40, 41, 42, 43, 44, 45, 46, 47, 48, 49],\n",
       "       [50, 51, 52, 53, 54, 55, 56, 57, 58, 59],\n",
       "       [60, 61, 62, 63, 64, 65, 66, 67, 68, 69],\n",
       "       [70, 71, 72, 73, 74, 75, 76, 77, 78, 79],\n",
       "       [80, 81, 82, 83, 84, 85, 86, 87, 88, 89],\n",
       "       [90, 91, 92, 93, 94, 95, 96, 97, 98, 99]])"
      ]
     },
     "execution_count": 109,
     "metadata": {},
     "output_type": "execute_result"
    }
   ],
   "source": [
    "mat=np.arange(0,100).reshape(10,10)\n",
    "mat"
   ]
  },
  {
   "cell_type": "code",
   "execution_count": 110,
   "id": "2e8a81ba-d1bb-4b0a-a6ee-69beaeb30864",
   "metadata": {},
   "outputs": [],
   "source": [
    "row=4\n",
    "col=5"
   ]
  },
  {
   "cell_type": "code",
   "execution_count": 111,
   "id": "759cfa03-f01e-480b-b3cc-c4a68f468778",
   "metadata": {},
   "outputs": [
    {
     "data": {
      "text/plain": [
       "5"
      ]
     },
     "execution_count": 111,
     "metadata": {},
     "output_type": "execute_result"
    }
   ],
   "source": [
    "col"
   ]
  },
  {
   "cell_type": "code",
   "execution_count": 112,
   "id": "f595abd7-c117-475e-a725-81b129b24cc3",
   "metadata": {},
   "outputs": [
    {
     "data": {
      "text/plain": [
       "4"
      ]
     },
     "execution_count": 112,
     "metadata": {},
     "output_type": "execute_result"
    }
   ],
   "source": [
    "row"
   ]
  },
  {
   "cell_type": "code",
   "execution_count": 113,
   "id": "c7713464-92f5-4543-8829-072fa2d14ed0",
   "metadata": {},
   "outputs": [
    {
     "data": {
      "text/plain": [
       "array([[ 0,  1,  2,  3,  4,  5,  6,  7,  8,  9],\n",
       "       [10, 11, 12, 13, 14, 15, 16, 17, 18, 19],\n",
       "       [20, 21, 22, 23, 24, 25, 26, 27, 28, 29],\n",
       "       [30, 31, 32, 33, 34, 35, 36, 37, 38, 39],\n",
       "       [40, 41, 42, 43, 44, 45, 46, 47, 48, 49],\n",
       "       [50, 51, 52, 53, 54, 55, 56, 57, 58, 59],\n",
       "       [60, 61, 62, 63, 64, 65, 66, 67, 68, 69],\n",
       "       [70, 71, 72, 73, 74, 75, 76, 77, 78, 79],\n",
       "       [80, 81, 82, 83, 84, 85, 86, 87, 88, 89],\n",
       "       [90, 91, 92, 93, 94, 95, 96, 97, 98, 99]])"
      ]
     },
     "execution_count": 113,
     "metadata": {},
     "output_type": "execute_result"
    }
   ],
   "source": [
    "mat"
   ]
  },
  {
   "cell_type": "code",
   "execution_count": 114,
   "id": "81977892-7b78-45d8-bc71-58665ec96109",
   "metadata": {},
   "outputs": [
    {
     "data": {
      "text/plain": [
       "45"
      ]
     },
     "execution_count": 114,
     "metadata": {},
     "output_type": "execute_result"
    }
   ],
   "source": [
    "mat[row,col]"
   ]
  },
  {
   "cell_type": "code",
   "execution_count": 115,
   "id": "f424880b-62a2-4ea3-aef7-19650e6a63c2",
   "metadata": {},
   "outputs": [
    {
     "data": {
      "text/plain": [
       "45"
      ]
     },
     "execution_count": 115,
     "metadata": {},
     "output_type": "execute_result"
    }
   ],
   "source": [
    "mat[4,5]"
   ]
  },
  {
   "cell_type": "code",
   "execution_count": 116,
   "id": "4c325db3-48ec-4840-9e7f-50d1857b7fe7",
   "metadata": {},
   "outputs": [
    {
     "data": {
      "text/plain": [
       "array([[ 0,  1,  2,  3,  4,  5,  6,  7,  8,  9],\n",
       "       [10, 11, 12, 13, 14, 15, 16, 17, 18, 19],\n",
       "       [20, 21, 22, 23, 24, 25, 26, 27, 28, 29],\n",
       "       [30, 31, 32, 33, 34, 35, 36, 37, 38, 39],\n",
       "       [40, 41, 42, 43, 44, 45, 46, 47, 48, 49],\n",
       "       [50, 51, 52, 53, 54, 55, 56, 57, 58, 59],\n",
       "       [60, 61, 62, 63, 64, 65, 66, 67, 68, 69],\n",
       "       [70, 71, 72, 73, 74, 75, 76, 77, 78, 79],\n",
       "       [80, 81, 82, 83, 84, 85, 86, 87, 88, 89],\n",
       "       [90, 91, 92, 93, 94, 95, 96, 97, 98, 99]])"
      ]
     },
     "execution_count": 116,
     "metadata": {},
     "output_type": "execute_result"
    }
   ],
   "source": [
    "mat"
   ]
  },
  {
   "cell_type": "code",
   "execution_count": 117,
   "id": "52034cee-8983-43c4-8627-41c6b3be3b13",
   "metadata": {},
   "outputs": [
    {
     "data": {
      "text/plain": [
       "array([[ 0,  1,  2,  3,  4,  5,  6,  7,  8,  9],\n",
       "       [10, 11, 12, 13, 14, 15, 16, 17, 18, 19],\n",
       "       [20, 21, 22, 23, 24, 25, 26, 27, 28, 29],\n",
       "       [30, 31, 32, 33, 34, 35, 36, 37, 38, 39],\n",
       "       [40, 41, 42, 43, 44, 45, 46, 47, 48, 49],\n",
       "       [50, 51, 52, 53, 54, 55, 56, 57, 58, 59],\n",
       "       [60, 61, 62, 63, 64, 65, 66, 67, 68, 69],\n",
       "       [70, 71, 72, 73, 74, 75, 76, 77, 78, 79],\n",
       "       [80, 81, 82, 83, 84, 85, 86, 87, 88, 89],\n",
       "       [90, 91, 92, 93, 94, 95, 96, 97, 98, 99]])"
      ]
     },
     "execution_count": 117,
     "metadata": {},
     "output_type": "execute_result"
    }
   ],
   "source": [
    "mat[:]"
   ]
  },
  {
   "cell_type": "code",
   "execution_count": 118,
   "id": "126d39f7-c1e4-448f-8850-29ccef8a8e9c",
   "metadata": {},
   "outputs": [],
   "source": [
    "col=6"
   ]
  },
  {
   "cell_type": "code",
   "execution_count": 119,
   "id": "788df0b5-0941-437b-81b7-5b65a610768e",
   "metadata": {},
   "outputs": [
    {
     "data": {
      "text/plain": [
       "array([[ 0,  1,  2,  3,  4,  5,  6,  7,  8,  9],\n",
       "       [10, 11, 12, 13, 14, 15, 16, 17, 18, 19],\n",
       "       [20, 21, 22, 23, 24, 25, 26, 27, 28, 29],\n",
       "       [30, 31, 32, 33, 34, 35, 36, 37, 38, 39],\n",
       "       [40, 41, 42, 43, 44, 45, 46, 47, 48, 49],\n",
       "       [50, 51, 52, 53, 54, 55, 56, 57, 58, 59],\n",
       "       [60, 61, 62, 63, 64, 65, 66, 67, 68, 69],\n",
       "       [70, 71, 72, 73, 74, 75, 76, 77, 78, 79],\n",
       "       [80, 81, 82, 83, 84, 85, 86, 87, 88, 89],\n",
       "       [90, 91, 92, 93, 94, 95, 96, 97, 98, 99]])"
      ]
     },
     "execution_count": 119,
     "metadata": {},
     "output_type": "execute_result"
    }
   ],
   "source": [
    "mat"
   ]
  },
  {
   "cell_type": "code",
   "execution_count": 120,
   "id": "f35b8f31-f90f-46e9-a80f-2fe372cf0012",
   "metadata": {},
   "outputs": [
    {
     "data": {
      "text/plain": [
       "array([ 6, 16, 26, 36, 46, 56, 66, 76, 86, 96])"
      ]
     },
     "execution_count": 120,
     "metadata": {},
     "output_type": "execute_result"
    }
   ],
   "source": [
    "mat[:,col]"
   ]
  },
  {
   "cell_type": "code",
   "execution_count": 121,
   "id": "781fabe4-11e6-49f7-83e3-c7b773566c3b",
   "metadata": {},
   "outputs": [
    {
     "data": {
      "text/plain": [
       "4"
      ]
     },
     "execution_count": 121,
     "metadata": {},
     "output_type": "execute_result"
    }
   ],
   "source": [
    "row"
   ]
  },
  {
   "cell_type": "code",
   "execution_count": 122,
   "id": "4b86befc-364b-4008-b5b9-be57b5d03e22",
   "metadata": {},
   "outputs": [
    {
     "data": {
      "text/plain": [
       "array([40, 41, 42, 43, 44, 45, 46, 47, 48, 49])"
      ]
     },
     "execution_count": 122,
     "metadata": {},
     "output_type": "execute_result"
    }
   ],
   "source": [
    "mat[row,:]"
   ]
  },
  {
   "cell_type": "code",
   "execution_count": 123,
   "id": "222b03c1-f0c9-4a9e-adfc-4a60ce1722b8",
   "metadata": {},
   "outputs": [
    {
     "data": {
      "text/plain": [
       "array([[ 0,  1,  2,  3,  4,  5,  6,  7,  8,  9],\n",
       "       [10, 11, 12, 13, 14, 15, 16, 17, 18, 19],\n",
       "       [20, 21, 22, 23, 24, 25, 26, 27, 28, 29],\n",
       "       [30, 31, 32, 33, 34, 35, 36, 37, 38, 39],\n",
       "       [40, 41, 42, 43, 44, 45, 46, 47, 48, 49],\n",
       "       [50, 51, 52, 53, 54, 55, 56, 57, 58, 59],\n",
       "       [60, 61, 62, 63, 64, 65, 66, 67, 68, 69],\n",
       "       [70, 71, 72, 73, 74, 75, 76, 77, 78, 79],\n",
       "       [80, 81, 82, 83, 84, 85, 86, 87, 88, 89],\n",
       "       [90, 91, 92, 93, 94, 95, 96, 97, 98, 99]])"
      ]
     },
     "execution_count": 123,
     "metadata": {},
     "output_type": "execute_result"
    }
   ],
   "source": [
    "mat"
   ]
  },
  {
   "cell_type": "code",
   "execution_count": 124,
   "id": "0b644f83-58e7-4ef4-801d-a82764e12b19",
   "metadata": {},
   "outputs": [
    {
     "data": {
      "text/plain": [
       "array([[ 0,  1,  2,  3,  4,  5,  6,  7,  8,  9],\n",
       "       [10, 11, 12, 13, 14, 15, 16, 17, 18, 19],\n",
       "       [20, 21, 22, 23, 24, 25, 26, 27, 28, 29],\n",
       "       [30, 31, 32, 33, 34, 35, 36, 37, 38, 39],\n",
       "       [40, 41, 42, 43, 44, 45, 46, 47, 48, 49],\n",
       "       [50, 51, 52, 53, 54, 55, 56, 57, 58, 59]])"
      ]
     },
     "execution_count": 124,
     "metadata": {},
     "output_type": "execute_result"
    }
   ],
   "source": [
    "mat[:col]"
   ]
  },
  {
   "cell_type": "code",
   "execution_count": 125,
   "id": "a71f237c-5b87-459c-82f8-3a311d760126",
   "metadata": {},
   "outputs": [
    {
     "data": {
      "text/plain": [
       "array([[ 0,  1,  2,  3,  4,  5,  6,  7,  8,  9],\n",
       "       [10, 11, 12, 13, 14, 15, 16, 17, 18, 19],\n",
       "       [20, 21, 22, 23, 24, 25, 26, 27, 28, 29],\n",
       "       [30, 31, 32, 33, 34, 35, 36, 37, 38, 39],\n",
       "       [40, 41, 42, 43, 44, 45, 46, 47, 48, 49],\n",
       "       [50, 51, 52, 53, 54, 55, 56, 57, 58, 59],\n",
       "       [60, 61, 62, 63, 64, 65, 66, 67, 68, 69],\n",
       "       [70, 71, 72, 73, 74, 75, 76, 77, 78, 79],\n",
       "       [80, 81, 82, 83, 84, 85, 86, 87, 88, 89],\n",
       "       [90, 91, 92, 93, 94, 95, 96, 97, 98, 99]])"
      ]
     },
     "execution_count": 125,
     "metadata": {},
     "output_type": "execute_result"
    }
   ],
   "source": [
    "mat"
   ]
  },
  {
   "cell_type": "code",
   "execution_count": 126,
   "id": "ac73ae74-45fe-4b48-9a21-1c6ef03fad8f",
   "metadata": {},
   "outputs": [
    {
     "data": {
      "text/plain": [
       "4"
      ]
     },
     "execution_count": 126,
     "metadata": {},
     "output_type": "execute_result"
    }
   ],
   "source": [
    "row"
   ]
  },
  {
   "cell_type": "code",
   "execution_count": 127,
   "id": "302597b3-f5ac-4094-9c14-4f2f0045cc8f",
   "metadata": {},
   "outputs": [
    {
     "data": {
      "text/plain": [
       "array([[ 0,  1,  2,  3,  4,  5,  6,  7,  8,  9],\n",
       "       [10, 11, 12, 13, 14, 15, 16, 17, 18, 19],\n",
       "       [20, 21, 22, 23, 24, 25, 26, 27, 28, 29],\n",
       "       [30, 31, 32, 33, 34, 35, 36, 37, 38, 39]])"
      ]
     },
     "execution_count": 127,
     "metadata": {},
     "output_type": "execute_result"
    }
   ],
   "source": [
    "mat[:row]"
   ]
  },
  {
   "cell_type": "code",
   "execution_count": 128,
   "id": "f24cdc07-e168-4c92-ba63-2acf6c50c3bb",
   "metadata": {},
   "outputs": [
    {
     "data": {
      "text/plain": [
       "array([[ 0,  1,  2,  3,  4,  5,  6,  7,  8,  9],\n",
       "       [10, 11, 12, 13, 14, 15, 16, 17, 18, 19],\n",
       "       [20, 21, 22, 23, 24, 25, 26, 27, 28, 29],\n",
       "       [30, 31, 32, 33, 34, 35, 36, 37, 38, 39],\n",
       "       [40, 41, 42, 43, 44, 45, 46, 47, 48, 49],\n",
       "       [50, 51, 52, 53, 54, 55, 56, 57, 58, 59],\n",
       "       [60, 61, 62, 63, 64, 65, 66, 67, 68, 69],\n",
       "       [70, 71, 72, 73, 74, 75, 76, 77, 78, 79],\n",
       "       [80, 81, 82, 83, 84, 85, 86, 87, 88, 89],\n",
       "       [90, 91, 92, 93, 94, 95, 96, 97, 98, 99]])"
      ]
     },
     "execution_count": 128,
     "metadata": {},
     "output_type": "execute_result"
    }
   ],
   "source": [
    "mat[:]"
   ]
  },
  {
   "cell_type": "code",
   "execution_count": 129,
   "id": "7728ed7a-356c-43c6-829b-c958e7c50c31",
   "metadata": {},
   "outputs": [
    {
     "data": {
      "text/plain": [
       "array([ 8, 18, 28, 38, 48, 58, 68, 78, 88, 98])"
      ]
     },
     "execution_count": 129,
     "metadata": {},
     "output_type": "execute_result"
    }
   ],
   "source": [
    "mat[:,8]"
   ]
  },
  {
   "cell_type": "code",
   "execution_count": 130,
   "id": "261f6be3-a513-4c06-a5b2-0405023c5cb8",
   "metadata": {},
   "outputs": [
    {
     "data": {
      "text/plain": [
       "array([ 9, 19, 29, 39, 49, 59, 69, 79, 89, 99])"
      ]
     },
     "execution_count": 130,
     "metadata": {},
     "output_type": "execute_result"
    }
   ],
   "source": [
    "mat[:,-1]"
   ]
  },
  {
   "cell_type": "code",
   "execution_count": 131,
   "id": "e5b6302b-dfb3-4c21-b284-833671a9b276",
   "metadata": {},
   "outputs": [
    {
     "data": {
      "text/plain": [
       "array([[ 0,  1,  2,  3,  4,  5,  6,  7,  8,  9],\n",
       "       [10, 11, 12, 13, 14, 15, 16, 17, 18, 19],\n",
       "       [20, 21, 22, 23, 24, 25, 26, 27, 28, 29],\n",
       "       [30, 31, 32, 33, 34, 35, 36, 37, 38, 39],\n",
       "       [40, 41, 42, 43, 44, 45, 46, 47, 48, 49],\n",
       "       [50, 51, 52, 53, 54, 55, 56, 57, 58, 59],\n",
       "       [60, 61, 62, 63, 64, 65, 66, 67, 68, 69],\n",
       "       [70, 71, 72, 73, 74, 75, 76, 77, 78, 79],\n",
       "       [80, 81, 82, 83, 84, 85, 86, 87, 88, 89],\n",
       "       [90, 91, 92, 93, 94, 95, 96, 97, 98, 99]])"
      ]
     },
     "execution_count": 131,
     "metadata": {},
     "output_type": "execute_result"
    }
   ],
   "source": [
    "mat"
   ]
  },
  {
   "cell_type": "code",
   "execution_count": 132,
   "id": "fd95d969-92b4-4fad-8c5e-3451467d678f",
   "metadata": {},
   "outputs": [
    {
     "data": {
      "text/plain": [
       "4"
      ]
     },
     "execution_count": 132,
     "metadata": {},
     "output_type": "execute_result"
    }
   ],
   "source": [
    "row"
   ]
  },
  {
   "cell_type": "code",
   "execution_count": 133,
   "id": "183dfb8b-5082-4c2e-9e04-524651ec55da",
   "metadata": {},
   "outputs": [
    {
     "data": {
      "text/plain": [
       "6"
      ]
     },
     "execution_count": 133,
     "metadata": {},
     "output_type": "execute_result"
    }
   ],
   "source": [
    "col"
   ]
  },
  {
   "cell_type": "code",
   "execution_count": 134,
   "id": "73ad42e3-4a2a-46e0-b0d7-67c4e351424d",
   "metadata": {},
   "outputs": [
    {
     "data": {
      "text/plain": [
       "array([[ 0,  1,  2,  3,  4,  5,  6,  7,  8,  9],\n",
       "       [10, 11, 12, 13, 14, 15, 16, 17, 18, 19],\n",
       "       [20, 21, 22, 23, 24, 25, 26, 27, 28, 29],\n",
       "       [30, 31, 32, 33, 34, 35, 36, 37, 38, 39],\n",
       "       [40, 41, 42, 43, 44, 45, 46, 47, 48, 49],\n",
       "       [50, 51, 52, 53, 54, 55, 56, 57, 58, 59],\n",
       "       [60, 61, 62, 63, 64, 65, 66, 67, 68, 69],\n",
       "       [70, 71, 72, 73, 74, 75, 76, 77, 78, 79],\n",
       "       [80, 81, 82, 83, 84, 85, 86, 87, 88, 89],\n",
       "       [90, 91, 92, 93, 94, 95, 96, 97, 98, 99]])"
      ]
     },
     "execution_count": 134,
     "metadata": {},
     "output_type": "execute_result"
    }
   ],
   "source": [
    "mat"
   ]
  },
  {
   "cell_type": "code",
   "execution_count": 135,
   "id": "9ff5bee0-d987-4310-b8e9-9fce2b017579",
   "metadata": {},
   "outputs": [
    {
     "data": {
      "text/plain": [
       "array([ 6, 16, 26, 36, 46, 56, 66, 76, 86, 96])"
      ]
     },
     "execution_count": 135,
     "metadata": {},
     "output_type": "execute_result"
    }
   ],
   "source": [
    "mat[:,col]"
   ]
  },
  {
   "cell_type": "code",
   "execution_count": 136,
   "id": "8db7a631-5e32-4a45-842b-60b36d1a840f",
   "metadata": {},
   "outputs": [
    {
     "data": {
      "text/plain": [
       "array([[ 0,  1,  2,  3,  4,  5,  6,  7,  8,  9],\n",
       "       [10, 11, 12, 13, 14, 15, 16, 17, 18, 19],\n",
       "       [20, 21, 22, 23, 24, 25, 26, 27, 28, 29],\n",
       "       [30, 31, 32, 33, 34, 35, 36, 37, 38, 39],\n",
       "       [40, 41, 42, 43, 44, 45, 46, 47, 48, 49],\n",
       "       [50, 51, 52, 53, 54, 55, 56, 57, 58, 59],\n",
       "       [60, 61, 62, 63, 64, 65, 66, 67, 68, 69],\n",
       "       [70, 71, 72, 73, 74, 75, 76, 77, 78, 79],\n",
       "       [80, 81, 82, 83, 84, 85, 86, 87, 88, 89],\n",
       "       [90, 91, 92, 93, 94, 95, 96, 97, 98, 99]])"
      ]
     },
     "execution_count": 136,
     "metadata": {},
     "output_type": "execute_result"
    }
   ],
   "source": [
    "mat"
   ]
  },
  {
   "cell_type": "code",
   "execution_count": 137,
   "id": "003e4ed1-98aa-4b96-9ecc-74a6ecd7f02c",
   "metadata": {},
   "outputs": [
    {
     "data": {
      "text/plain": [
       "14"
      ]
     },
     "execution_count": 137,
     "metadata": {},
     "output_type": "execute_result"
    }
   ],
   "source": [
    "mat[1,4]"
   ]
  },
  {
   "cell_type": "code",
   "execution_count": 138,
   "id": "d63100ee-d6bb-431c-96f9-0f471c1c9528",
   "metadata": {},
   "outputs": [
    {
     "data": {
      "text/plain": [
       "array([[ 0,  1,  2,  3,  4,  5,  6,  7,  8,  9],\n",
       "       [10, 11, 12, 13, 14, 15, 16, 17, 18, 19],\n",
       "       [20, 21, 22, 23, 24, 25, 26, 27, 28, 29],\n",
       "       [30, 31, 32, 33, 34, 35, 36, 37, 38, 39],\n",
       "       [40, 41, 42, 43, 44, 45, 46, 47, 48, 49],\n",
       "       [50, 51, 52, 53, 54, 55, 56, 57, 58, 59],\n",
       "       [60, 61, 62, 63, 64, 65, 66, 67, 68, 69],\n",
       "       [70, 71, 72, 73, 74, 75, 76, 77, 78, 79],\n",
       "       [80, 81, 82, 83, 84, 85, 86, 87, 88, 89],\n",
       "       [90, 91, 92, 93, 94, 95, 96, 97, 98, 99]])"
      ]
     },
     "execution_count": 138,
     "metadata": {},
     "output_type": "execute_result"
    }
   ],
   "source": [
    "mat"
   ]
  },
  {
   "cell_type": "code",
   "execution_count": 139,
   "id": "6ff357a4-4c6a-4bc3-97bd-7edfb7a20a81",
   "metadata": {},
   "outputs": [
    {
     "data": {
      "text/plain": [
       "37"
      ]
     },
     "execution_count": 139,
     "metadata": {},
     "output_type": "execute_result"
    }
   ],
   "source": [
    "mat[3,-3]"
   ]
  },
  {
   "cell_type": "code",
   "execution_count": 140,
   "id": "d2d35a0f-b2c2-4a1f-b11b-3d6cfdc32054",
   "metadata": {},
   "outputs": [
    {
     "data": {
      "text/plain": [
       "array([[ 0,  1,  2,  3,  4,  5,  6,  7,  8,  9],\n",
       "       [10, 11, 12, 13, 14, 15, 16, 17, 18, 19],\n",
       "       [20, 21, 22, 23, 24, 25, 26, 27, 28, 29],\n",
       "       [30, 31, 32, 33, 34, 35, 36, 37, 38, 39],\n",
       "       [40, 41, 42, 43, 44, 45, 46, 47, 48, 49],\n",
       "       [50, 51, 52, 53, 54, 55, 56, 57, 58, 59],\n",
       "       [60, 61, 62, 63, 64, 65, 66, 67, 68, 69],\n",
       "       [70, 71, 72, 73, 74, 75, 76, 77, 78, 79],\n",
       "       [80, 81, 82, 83, 84, 85, 86, 87, 88, 89],\n",
       "       [90, 91, 92, 93, 94, 95, 96, 97, 98, 99]])"
      ]
     },
     "execution_count": 140,
     "metadata": {},
     "output_type": "execute_result"
    }
   ],
   "source": [
    "mat"
   ]
  },
  {
   "cell_type": "code",
   "execution_count": 141,
   "id": "ddfcf094-e5d0-40c2-a622-c9ace5d33c97",
   "metadata": {},
   "outputs": [
    {
     "data": {
      "text/plain": [
       "array([0, 1, 2, 3, 4, 5, 6, 7, 8, 9])"
      ]
     },
     "execution_count": 141,
     "metadata": {},
     "output_type": "execute_result"
    }
   ],
   "source": [
    "mat[0]"
   ]
  },
  {
   "cell_type": "code",
   "execution_count": 142,
   "id": "0d54e0ad-b1a5-4f9d-b5f6-bc63d3075932",
   "metadata": {},
   "outputs": [
    {
     "data": {
      "text/plain": [
       "array([60, 61, 62, 63, 64, 65, 66, 67, 68, 69])"
      ]
     },
     "execution_count": 142,
     "metadata": {},
     "output_type": "execute_result"
    }
   ],
   "source": [
    "mat[6]"
   ]
  },
  {
   "cell_type": "code",
   "execution_count": 143,
   "id": "e07dc118-ea0a-4da7-a43b-0ffc9cdee1d6",
   "metadata": {},
   "outputs": [
    {
     "data": {
      "text/plain": [
       "array([[ 0,  1,  2,  3,  4,  5,  6,  7,  8,  9],\n",
       "       [10, 11, 12, 13, 14, 15, 16, 17, 18, 19],\n",
       "       [20, 21, 22, 23, 24, 25, 26, 27, 28, 29],\n",
       "       [30, 31, 32, 33, 34, 35, 36, 37, 38, 39],\n",
       "       [40, 41, 42, 43, 44, 45, 46, 47, 48, 49],\n",
       "       [50, 51, 52, 53, 54, 55, 56, 57, 58, 59],\n",
       "       [60, 61, 62, 63, 64, 65, 66, 67, 68, 69],\n",
       "       [70, 71, 72, 73, 74, 75, 76, 77, 78, 79],\n",
       "       [80, 81, 82, 83, 84, 85, 86, 87, 88, 89],\n",
       "       [90, 91, 92, 93, 94, 95, 96, 97, 98, 99]])"
      ]
     },
     "execution_count": 143,
     "metadata": {},
     "output_type": "execute_result"
    }
   ],
   "source": [
    "mat"
   ]
  },
  {
   "cell_type": "code",
   "execution_count": 144,
   "id": "38b4a8af-a0a4-4f50-8eae-443a5fed0a21",
   "metadata": {},
   "outputs": [
    {
     "data": {
      "text/plain": [
       "array([[60, 61, 62, 63, 64, 65, 66, 67, 68, 69],\n",
       "       [70, 71, 72, 73, 74, 75, 76, 77, 78, 79],\n",
       "       [80, 81, 82, 83, 84, 85, 86, 87, 88, 89],\n",
       "       [90, 91, 92, 93, 94, 95, 96, 97, 98, 99]])"
      ]
     },
     "execution_count": 144,
     "metadata": {},
     "output_type": "execute_result"
    }
   ],
   "source": [
    "mat[6:]"
   ]
  },
  {
   "cell_type": "code",
   "execution_count": 145,
   "id": "3633fef2-252c-4f0a-8932-57d9445fabef",
   "metadata": {},
   "outputs": [
    {
     "data": {
      "text/plain": [
       "array([[ 0,  1,  2,  3,  4,  5,  6,  7,  8,  9],\n",
       "       [10, 11, 12, 13, 14, 15, 16, 17, 18, 19],\n",
       "       [20, 21, 22, 23, 24, 25, 26, 27, 28, 29],\n",
       "       [30, 31, 32, 33, 34, 35, 36, 37, 38, 39],\n",
       "       [40, 41, 42, 43, 44, 45, 46, 47, 48, 49],\n",
       "       [50, 51, 52, 53, 54, 55, 56, 57, 58, 59]])"
      ]
     },
     "execution_count": 145,
     "metadata": {},
     "output_type": "execute_result"
    }
   ],
   "source": [
    "mat[:6]"
   ]
  },
  {
   "cell_type": "code",
   "execution_count": 146,
   "id": "2b2f5fec-c777-404f-8641-2e56dbe4087f",
   "metadata": {},
   "outputs": [
    {
     "data": {
      "text/plain": [
       "array([[ 0,  1,  2,  3,  4,  5,  6,  7,  8,  9],\n",
       "       [10, 11, 12, 13, 14, 15, 16, 17, 18, 19],\n",
       "       [20, 21, 22, 23, 24, 25, 26, 27, 28, 29],\n",
       "       [30, 31, 32, 33, 34, 35, 36, 37, 38, 39],\n",
       "       [40, 41, 42, 43, 44, 45, 46, 47, 48, 49],\n",
       "       [50, 51, 52, 53, 54, 55, 56, 57, 58, 59],\n",
       "       [60, 61, 62, 63, 64, 65, 66, 67, 68, 69],\n",
       "       [70, 71, 72, 73, 74, 75, 76, 77, 78, 79],\n",
       "       [80, 81, 82, 83, 84, 85, 86, 87, 88, 89],\n",
       "       [90, 91, 92, 93, 94, 95, 96, 97, 98, 99]])"
      ]
     },
     "execution_count": 146,
     "metadata": {},
     "output_type": "execute_result"
    }
   ],
   "source": [
    "mat"
   ]
  },
  {
   "cell_type": "code",
   "execution_count": 147,
   "id": "46ad7fdd-0018-4fae-b42c-cd14bb270b04",
   "metadata": {},
   "outputs": [
    {
     "data": {
      "text/plain": [
       "array([[50, 51, 52, 53, 54, 55, 56, 57, 58, 59],\n",
       "       [60, 61, 62, 63, 64, 65, 66, 67, 68, 69]])"
      ]
     },
     "execution_count": 147,
     "metadata": {},
     "output_type": "execute_result"
    }
   ],
   "source": [
    "mat[5:7]"
   ]
  },
  {
   "cell_type": "code",
   "execution_count": 148,
   "id": "5d5e0cc3-3102-4cac-8e02-efd850ebcb46",
   "metadata": {},
   "outputs": [
    {
     "data": {
      "text/plain": [
       "array([[ 0,  1,  2,  3,  4,  5,  6,  7,  8,  9],\n",
       "       [10, 11, 12, 13, 14, 15, 16, 17, 18, 19],\n",
       "       [20, 21, 22, 23, 24, 25, 26, 27, 28, 29],\n",
       "       [30, 31, 32, 33, 34, 35, 36, 37, 38, 39],\n",
       "       [40, 41, 42, 43, 44, 45, 46, 47, 48, 49],\n",
       "       [50, 51, 52, 53, 54, 55, 56, 57, 58, 59],\n",
       "       [60, 61, 62, 63, 64, 65, 66, 67, 68, 69],\n",
       "       [70, 71, 72, 73, 74, 75, 76, 77, 78, 79],\n",
       "       [80, 81, 82, 83, 84, 85, 86, 87, 88, 89],\n",
       "       [90, 91, 92, 93, 94, 95, 96, 97, 98, 99]])"
      ]
     },
     "execution_count": 148,
     "metadata": {},
     "output_type": "execute_result"
    }
   ],
   "source": [
    "mat"
   ]
  },
  {
   "cell_type": "code",
   "execution_count": 149,
   "id": "59e13a49-1ee1-4000-8e51-99e3d54e3bfe",
   "metadata": {},
   "outputs": [
    {
     "data": {
      "text/plain": [
       "array([[ 0,  1,  2,  3,  4,  5,  6,  7,  8,  9],\n",
       "       [10, 11, 12, 13, 14, 15, 16, 17, 18, 19],\n",
       "       [20, 21, 22, 23, 24, 25, 26, 27, 28, 29],\n",
       "       [30, 31, 32, 33, 34, 35, 36, 37, 38, 39],\n",
       "       [40, 41, 42, 43, 44, 45, 46, 47, 48, 49],\n",
       "       [50, 51, 52, 53, 54, 55, 56, 57, 58, 59],\n",
       "       [60, 61, 62, 63, 64, 65, 66, 67, 68, 69],\n",
       "       [70, 71, 72, 73, 74, 75, 76, 77, 78, 79],\n",
       "       [80, 81, 82, 83, 84, 85, 86, 87, 88, 89],\n",
       "       [90, 91, 92, 93, 94, 95, 96, 97, 98, 99]])"
      ]
     },
     "execution_count": 149,
     "metadata": {},
     "output_type": "execute_result"
    }
   ],
   "source": [
    "mat[0:10]"
   ]
  },
  {
   "cell_type": "code",
   "execution_count": 150,
   "id": "57ece368-f2fd-4462-a015-a040b7974adc",
   "metadata": {},
   "outputs": [
    {
     "data": {
      "text/plain": [
       "array([[ 0,  1,  2,  3,  4,  5,  6,  7,  8,  9],\n",
       "       [30, 31, 32, 33, 34, 35, 36, 37, 38, 39],\n",
       "       [60, 61, 62, 63, 64, 65, 66, 67, 68, 69],\n",
       "       [90, 91, 92, 93, 94, 95, 96, 97, 98, 99]])"
      ]
     },
     "execution_count": 150,
     "metadata": {},
     "output_type": "execute_result"
    }
   ],
   "source": [
    "mat[0:10:3]"
   ]
  },
  {
   "cell_type": "code",
   "execution_count": 151,
   "id": "3e9d7324-8ad5-401a-a426-48fcc675eb9a",
   "metadata": {},
   "outputs": [
    {
     "data": {
      "text/plain": [
       "array([[40, 41, 42, 43, 44, 45, 46, 47, 48, 49],\n",
       "       [50, 51, 52, 53, 54, 55, 56, 57, 58, 59],\n",
       "       [60, 61, 62, 63, 64, 65, 66, 67, 68, 69],\n",
       "       [70, 71, 72, 73, 74, 75, 76, 77, 78, 79],\n",
       "       [80, 81, 82, 83, 84, 85, 86, 87, 88, 89],\n",
       "       [90, 91, 92, 93, 94, 95, 96, 97, 98, 99]])"
      ]
     },
     "execution_count": 151,
     "metadata": {},
     "output_type": "execute_result"
    }
   ],
   "source": [
    "mat[4:]"
   ]
  },
  {
   "cell_type": "code",
   "execution_count": 152,
   "id": "3493668d-ea4b-417f-b0a2-94f9e00f8dac",
   "metadata": {},
   "outputs": [
    {
     "data": {
      "text/plain": [
       "array([[ 0,  1,  2,  3,  4,  5,  6,  7,  8,  9],\n",
       "       [10, 11, 12, 13, 14, 15, 16, 17, 18, 19],\n",
       "       [20, 21, 22, 23, 24, 25, 26, 27, 28, 29],\n",
       "       [30, 31, 32, 33, 34, 35, 36, 37, 38, 39]])"
      ]
     },
     "execution_count": 152,
     "metadata": {},
     "output_type": "execute_result"
    }
   ],
   "source": [
    "mat[:4]"
   ]
  },
  {
   "cell_type": "code",
   "execution_count": 153,
   "id": "2d68791b-c01e-4c4b-acb9-0d7a5a936afa",
   "metadata": {},
   "outputs": [
    {
     "data": {
      "text/plain": [
       "array([[90, 91, 92, 93, 94, 95, 96, 97, 98, 99],\n",
       "       [80, 81, 82, 83, 84, 85, 86, 87, 88, 89],\n",
       "       [70, 71, 72, 73, 74, 75, 76, 77, 78, 79],\n",
       "       [60, 61, 62, 63, 64, 65, 66, 67, 68, 69],\n",
       "       [50, 51, 52, 53, 54, 55, 56, 57, 58, 59],\n",
       "       [40, 41, 42, 43, 44, 45, 46, 47, 48, 49],\n",
       "       [30, 31, 32, 33, 34, 35, 36, 37, 38, 39],\n",
       "       [20, 21, 22, 23, 24, 25, 26, 27, 28, 29],\n",
       "       [10, 11, 12, 13, 14, 15, 16, 17, 18, 19],\n",
       "       [ 0,  1,  2,  3,  4,  5,  6,  7,  8,  9]])"
      ]
     },
     "execution_count": 153,
     "metadata": {},
     "output_type": "execute_result"
    }
   ],
   "source": [
    "mat[::-1]"
   ]
  },
  {
   "cell_type": "code",
   "execution_count": 154,
   "id": "2c5258da-d7ec-4764-9c43-93c752dda1de",
   "metadata": {},
   "outputs": [
    {
     "data": {
      "text/plain": [
       "array([[90, 91, 92, 93, 94, 95, 96, 97, 98, 99],\n",
       "       [70, 71, 72, 73, 74, 75, 76, 77, 78, 79],\n",
       "       [50, 51, 52, 53, 54, 55, 56, 57, 58, 59],\n",
       "       [30, 31, 32, 33, 34, 35, 36, 37, 38, 39],\n",
       "       [10, 11, 12, 13, 14, 15, 16, 17, 18, 19]])"
      ]
     },
     "execution_count": 154,
     "metadata": {},
     "output_type": "execute_result"
    }
   ],
   "source": [
    "mat[::-2]"
   ]
  },
  {
   "cell_type": "code",
   "execution_count": 155,
   "id": "397347c8-1bac-453b-ac72-25f893e0b0cb",
   "metadata": {},
   "outputs": [
    {
     "data": {
      "text/plain": [
       "array([[ 0,  1,  2,  3,  4,  5,  6,  7,  8,  9],\n",
       "       [10, 11, 12, 13, 14, 15, 16, 17, 18, 19],\n",
       "       [20, 21, 22, 23, 24, 25, 26, 27, 28, 29],\n",
       "       [30, 31, 32, 33, 34, 35, 36, 37, 38, 39],\n",
       "       [40, 41, 42, 43, 44, 45, 46, 47, 48, 49],\n",
       "       [50, 51, 52, 53, 54, 55, 56, 57, 58, 59],\n",
       "       [60, 61, 62, 63, 64, 65, 66, 67, 68, 69],\n",
       "       [70, 71, 72, 73, 74, 75, 76, 77, 78, 79],\n",
       "       [80, 81, 82, 83, 84, 85, 86, 87, 88, 89],\n",
       "       [90, 91, 92, 93, 94, 95, 96, 97, 98, 99]])"
      ]
     },
     "execution_count": 155,
     "metadata": {},
     "output_type": "execute_result"
    }
   ],
   "source": [
    "mat"
   ]
  },
  {
   "cell_type": "code",
   "execution_count": 156,
   "id": "fd15d7fa-7433-4d13-a923-643e725d05c1",
   "metadata": {},
   "outputs": [
    {
     "data": {
      "text/plain": [
       "array([[22, 23],\n",
       "       [32, 33],\n",
       "       [42, 43],\n",
       "       [52, 53]])"
      ]
     },
     "execution_count": 156,
     "metadata": {},
     "output_type": "execute_result"
    }
   ],
   "source": [
    "mat[2:6,2:4]"
   ]
  },
  {
   "cell_type": "code",
   "execution_count": 157,
   "id": "eb1fd1ae-966b-486b-b593-6f39d4169c7c",
   "metadata": {},
   "outputs": [
    {
     "data": {
      "text/plain": [
       "array([[12, 13]])"
      ]
     },
     "execution_count": 157,
     "metadata": {},
     "output_type": "execute_result"
    }
   ],
   "source": [
    "mat[1:2,2:4]"
   ]
  },
  {
   "cell_type": "code",
   "execution_count": 158,
   "id": "8c50e427-d2d6-4073-a5df-b03a66c25eb0",
   "metadata": {},
   "outputs": [
    {
     "data": {
      "text/plain": [
       "array([[ 0,  1,  2,  3,  4,  5,  6,  7,  8,  9],\n",
       "       [10, 11, 12, 13, 14, 15, 16, 17, 18, 19],\n",
       "       [20, 21, 22, 23, 24, 25, 26, 27, 28, 29],\n",
       "       [30, 31, 32, 33, 34, 35, 36, 37, 38, 39],\n",
       "       [40, 41, 42, 43, 44, 45, 46, 47, 48, 49],\n",
       "       [50, 51, 52, 53, 54, 55, 56, 57, 58, 59],\n",
       "       [60, 61, 62, 63, 64, 65, 66, 67, 68, 69],\n",
       "       [70, 71, 72, 73, 74, 75, 76, 77, 78, 79],\n",
       "       [80, 81, 82, 83, 84, 85, 86, 87, 88, 89],\n",
       "       [90, 91, 92, 93, 94, 95, 96, 97, 98, 99]])"
      ]
     },
     "execution_count": 158,
     "metadata": {},
     "output_type": "execute_result"
    }
   ],
   "source": [
    "mat"
   ]
  },
  {
   "cell_type": "code",
   "execution_count": 159,
   "id": "34198072-8382-4b3b-9058-449ddaf82492",
   "metadata": {},
   "outputs": [
    {
     "data": {
      "text/plain": [
       "array([[24]])"
      ]
     },
     "execution_count": 159,
     "metadata": {},
     "output_type": "execute_result"
    }
   ],
   "source": [
    "mat[2:3,4:5]"
   ]
  },
  {
   "cell_type": "markdown",
   "id": "a19ae79c-2b5b-4e62-8e96-ceeabc9b3334",
   "metadata": {},
   "source": [
    "# Masking also called as Filter"
   ]
  },
  {
   "cell_type": "code",
   "execution_count": 160,
   "id": "9d35bf7c-d1da-4635-8dd3-c69f94650129",
   "metadata": {},
   "outputs": [
    {
     "data": {
      "text/plain": [
       "array([[ 0,  1,  2,  3,  4,  5,  6,  7,  8,  9],\n",
       "       [10, 11, 12, 13, 14, 15, 16, 17, 18, 19],\n",
       "       [20, 21, 22, 23, 24, 25, 26, 27, 28, 29],\n",
       "       [30, 31, 32, 33, 34, 35, 36, 37, 38, 39],\n",
       "       [40, 41, 42, 43, 44, 45, 46, 47, 48, 49],\n",
       "       [50, 51, 52, 53, 54, 55, 56, 57, 58, 59],\n",
       "       [60, 61, 62, 63, 64, 65, 66, 67, 68, 69],\n",
       "       [70, 71, 72, 73, 74, 75, 76, 77, 78, 79],\n",
       "       [80, 81, 82, 83, 84, 85, 86, 87, 88, 89],\n",
       "       [90, 91, 92, 93, 94, 95, 96, 97, 98, 99]])"
      ]
     },
     "execution_count": 160,
     "metadata": {},
     "output_type": "execute_result"
    }
   ],
   "source": [
    "mat"
   ]
  },
  {
   "cell_type": "code",
   "execution_count": 161,
   "id": "196ee069-8a73-4e8f-98d6-2adff484d8f3",
   "metadata": {},
   "outputs": [
    {
     "data": {
      "text/plain": [
       "2557987032688"
      ]
     },
     "execution_count": 161,
     "metadata": {},
     "output_type": "execute_result"
    }
   ],
   "source": [
    "id(mat)"
   ]
  },
  {
   "cell_type": "code",
   "execution_count": 163,
   "id": "6be73b8c-897a-4c16-9716-8ba949db802e",
   "metadata": {},
   "outputs": [
    {
     "data": {
      "text/plain": [
       "array([[ True,  True,  True,  True,  True,  True,  True,  True,  True,\n",
       "         True],\n",
       "       [ True,  True,  True,  True,  True,  True,  True,  True,  True,\n",
       "         True],\n",
       "       [ True,  True,  True,  True,  True,  True,  True,  True,  True,\n",
       "         True],\n",
       "       [ True,  True,  True,  True,  True,  True,  True,  True,  True,\n",
       "         True],\n",
       "       [ True,  True,  True,  True,  True,  True,  True,  True,  True,\n",
       "         True],\n",
       "       [False, False, False, False, False, False, False, False, False,\n",
       "        False],\n",
       "       [False, False, False, False, False, False, False, False, False,\n",
       "        False],\n",
       "       [False, False, False, False, False, False, False, False, False,\n",
       "        False],\n",
       "       [False, False, False, False, False, False, False, False, False,\n",
       "        False],\n",
       "       [False, False, False, False, False, False, False, False, False,\n",
       "        False]])"
      ]
     },
     "execution_count": 163,
     "metadata": {},
     "output_type": "execute_result"
    }
   ],
   "source": [
    "mat<50"
   ]
  },
  {
   "cell_type": "code",
   "execution_count": 164,
   "id": "8fa1081a-956b-485c-8115-9834595af34d",
   "metadata": {},
   "outputs": [
    {
     "data": {
      "text/plain": [
       "array([[False, False, False, False, False, False, False, False, False,\n",
       "        False],\n",
       "       [False, False, False, False, False, False, False, False, False,\n",
       "        False],\n",
       "       [False, False, False, False, False, False, False, False, False,\n",
       "        False],\n",
       "       [False, False, False, False, False, False, False, False, False,\n",
       "        False],\n",
       "       [False, False, False, False, False, False, False, False, False,\n",
       "        False],\n",
       "       [ True, False, False, False, False, False, False, False, False,\n",
       "        False],\n",
       "       [False, False, False, False, False, False, False, False, False,\n",
       "        False],\n",
       "       [False, False, False, False, False, False, False, False, False,\n",
       "        False],\n",
       "       [False, False, False, False, False, False, False, False, False,\n",
       "        False],\n",
       "       [False, False, False, False, False, False, False, False, False,\n",
       "        False]])"
      ]
     },
     "execution_count": 164,
     "metadata": {},
     "output_type": "execute_result"
    }
   ],
   "source": [
    "mat==50"
   ]
  },
  {
   "cell_type": "code",
   "execution_count": 165,
   "id": "25d04dbe-b338-4509-a0bf-1661ebb62347",
   "metadata": {},
   "outputs": [
    {
     "data": {
      "text/plain": [
       "array([50])"
      ]
     },
     "execution_count": 165,
     "metadata": {},
     "output_type": "execute_result"
    }
   ],
   "source": [
    "mat[mat==50]"
   ]
  },
  {
   "cell_type": "code",
   "execution_count": 167,
   "id": "f45b4f0a-2560-4ef5-abeb-09c711fe9cea",
   "metadata": {},
   "outputs": [
    {
     "data": {
      "text/plain": [
       "array([ 0,  1,  2,  3,  4,  5,  6,  7,  8,  9, 10, 11, 12, 13, 14, 15, 16,\n",
       "       17, 18, 19, 20, 21, 22, 23, 24, 25, 26, 27, 28, 29, 30, 31, 32, 33,\n",
       "       34, 35, 36, 37, 38, 39, 40, 41, 42, 43, 44, 45, 46, 47, 48, 49])"
      ]
     },
     "execution_count": 167,
     "metadata": {},
     "output_type": "execute_result"
    }
   ],
   "source": [
    "a1=mat[mat<50]\n",
    "a1"
   ]
  },
  {
   "cell_type": "code",
   "execution_count": 169,
   "id": "865ff109-55e5-4074-96f8-9946bc8c85f7",
   "metadata": {},
   "outputs": [
    {
     "data": {
      "text/plain": [
       "array([ 0,  1,  2,  3,  4,  5,  6,  7,  8,  9, 10, 11, 12, 13, 14, 15, 16,\n",
       "       17, 18, 19, 20, 21, 22, 23, 24, 25, 26, 27, 28, 29, 30, 31, 32, 33,\n",
       "       34, 35, 36, 37, 38, 39, 40, 41, 42, 43, 44, 45, 46, 47, 48, 49])"
      ]
     },
     "execution_count": 169,
     "metadata": {},
     "output_type": "execute_result"
    }
   ],
   "source": [
    "a2=mat[mat<50]\n",
    "a2"
   ]
  },
  {
   "cell_type": "code",
   "execution_count": 170,
   "id": "95de00a0-541b-4745-8f6e-06333e277925",
   "metadata": {},
   "outputs": [
    {
     "data": {
      "text/plain": [
       "array([50])"
      ]
     },
     "execution_count": 170,
     "metadata": {},
     "output_type": "execute_result"
    }
   ],
   "source": [
    "a3=mat[mat==50]\n",
    "a3"
   ]
  },
  {
   "cell_type": "code",
   "execution_count": 171,
   "id": "e6e00078-70c9-4702-9271-3a0ff37645a4",
   "metadata": {},
   "outputs": [
    {
     "data": {
      "text/plain": [
       "array([ 0,  1,  2,  3,  4,  5,  6,  7,  8,  9, 10, 11, 12, 13, 14, 15, 16,\n",
       "       17, 18, 19, 20, 21, 22, 23, 24, 25, 26, 27, 28, 29, 30, 31, 32, 33,\n",
       "       34, 35, 36, 37, 38, 39, 40, 41, 42, 43, 44, 45, 46, 47, 48, 49])"
      ]
     },
     "execution_count": 171,
     "metadata": {},
     "output_type": "execute_result"
    }
   ],
   "source": [
    "a1"
   ]
  },
  {
   "cell_type": "code",
   "execution_count": 172,
   "id": "17b996bb-1414-4fd1-a9b1-7655a473c096",
   "metadata": {},
   "outputs": [
    {
     "data": {
      "text/plain": [
       "array([ 0,  1,  2,  3,  4,  5,  6,  7,  8,  9, 10, 11, 12, 13, 14, 15, 16,\n",
       "       17, 18, 19, 20, 21, 22, 23, 24, 25, 26, 27, 28, 29, 30, 31, 32, 33,\n",
       "       34, 35, 36, 37, 38, 39, 40, 41, 42, 43, 44, 45, 46, 47, 48, 49])"
      ]
     },
     "execution_count": 172,
     "metadata": {},
     "output_type": "execute_result"
    }
   ],
   "source": [
    "a2"
   ]
  },
  {
   "cell_type": "code",
   "execution_count": 173,
   "id": "f123fcbf-3d86-4e9c-b8fd-dda1a31956f2",
   "metadata": {},
   "outputs": [
    {
     "data": {
      "text/plain": [
       "array([50])"
      ]
     },
     "execution_count": 173,
     "metadata": {},
     "output_type": "execute_result"
    }
   ],
   "source": [
    "a3"
   ]
  },
  {
   "cell_type": "code",
   "execution_count": null,
   "id": "ac7f03c5-d197-48bf-9aa4-3ad749213de6",
   "metadata": {},
   "outputs": [],
   "source": []
  },
  {
   "cell_type": "code",
   "execution_count": null,
   "id": "17d97ac3-44c0-4e67-9c31-c5d600312fd8",
   "metadata": {},
   "outputs": [],
   "source": []
  }
 ],
 "metadata": {
  "kernelspec": {
   "display_name": "Python 3 (ipykernel)",
   "language": "python",
   "name": "python3"
  },
  "language_info": {
   "codemirror_mode": {
    "name": "ipython",
    "version": 3
   },
   "file_extension": ".py",
   "mimetype": "text/x-python",
   "name": "python",
   "nbconvert_exporter": "python",
   "pygments_lexer": "ipython3",
   "version": "3.12.4"
  }
 },
 "nbformat": 4,
 "nbformat_minor": 5
}
